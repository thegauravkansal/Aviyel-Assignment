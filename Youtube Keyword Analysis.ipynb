{
 "cells": [
  {
   "cell_type": "code",
   "execution_count": 2,
   "metadata": {},
   "outputs": [],
   "source": [
    "# importing packages\n",
    "import pandas as pd\n",
    "import matplotlib.pyplot as plt\n",
    "from tqdm import tqdm\n",
    "import datetime\n",
    "import requests\n",
    "import os\n",
    "from wordcloud import WordCloud"
   ]
  },
  {
   "cell_type": "markdown",
   "metadata": {},
   "source": [
    "## Get data from API data extraction script"
   ]
  },
  {
   "cell_type": "code",
   "execution_count": 4,
   "metadata": {
    "scrolled": true
   },
   "outputs": [],
   "source": [
    "## sample_size: record will return with a multiple of 10\n",
    "## This will take time ~ 10 min. It depend on the sample size and videos in a playlist\n",
    "## considering 300 because search records also contains playlist which increases our total video record count\n",
    "query = {\"keyword\": \"Python\",\"sample_size\":50}\n",
    "response = requests.post(\"http://127.0.0.1:5000/\", params = query)\n",
    "response.json()"
   ]
  },
  {
   "cell_type": "code",
   "execution_count": 5,
   "metadata": {},
   "outputs": [
    {
     "ename": "FileExistsError",
     "evalue": "[WinError 183] Cannot create a file when that file already exists: 'analysis/Python'",
     "output_type": "error",
     "traceback": [
      "\u001b[1;31m---------------------------------------------------------------------------\u001b[0m",
      "\u001b[1;31mFileExistsError\u001b[0m                           Traceback (most recent call last)",
      "\u001b[1;32m<ipython-input-5-05f75c14fb78>\u001b[0m in \u001b[0;36m<module>\u001b[1;34m\u001b[0m\n\u001b[0;32m      7\u001b[0m         \u001b[0mos\u001b[0m\u001b[1;33m.\u001b[0m\u001b[0mmakedirs\u001b[0m\u001b[1;33m(\u001b[0m\u001b[0mdirname\u001b[0m\u001b[1;33m)\u001b[0m\u001b[1;33m\u001b[0m\u001b[1;33m\u001b[0m\u001b[0m\n\u001b[0;32m      8\u001b[0m \u001b[1;32mdel\u001b[0m \u001b[0mdirname\u001b[0m\u001b[1;33m\u001b[0m\u001b[1;33m\u001b[0m\u001b[0m\n\u001b[1;32m----> 9\u001b[1;33m \u001b[0mos\u001b[0m\u001b[1;33m.\u001b[0m\u001b[0mmakedirs\u001b[0m\u001b[1;33m(\u001b[0m\u001b[1;34m\"analysis/\"\u001b[0m\u001b[1;33m+\u001b[0m\u001b[0mquery\u001b[0m\u001b[1;33m[\u001b[0m\u001b[1;34m\"keyword\"\u001b[0m\u001b[1;33m]\u001b[0m\u001b[1;33m)\u001b[0m\u001b[1;33m\u001b[0m\u001b[1;33m\u001b[0m\u001b[0m\n\u001b[0m\u001b[0;32m     10\u001b[0m \u001b[0mos\u001b[0m\u001b[1;33m.\u001b[0m\u001b[0mmakedirs\u001b[0m\u001b[1;33m(\u001b[0m\u001b[1;34m\"analysis/\"\u001b[0m\u001b[1;33m+\u001b[0m\u001b[0mquery\u001b[0m\u001b[1;33m[\u001b[0m\u001b[1;34m\"keyword\"\u001b[0m\u001b[1;33m]\u001b[0m\u001b[1;33m+\u001b[0m\u001b[1;34m\"/taglevel\"\u001b[0m\u001b[1;33m)\u001b[0m\u001b[1;33m\u001b[0m\u001b[1;33m\u001b[0m\u001b[0m\n\u001b[0;32m     11\u001b[0m \u001b[0mos\u001b[0m\u001b[1;33m.\u001b[0m\u001b[0mmakedirs\u001b[0m\u001b[1;33m(\u001b[0m\u001b[1;34m\"analysis/\"\u001b[0m\u001b[1;33m+\u001b[0m\u001b[0mquery\u001b[0m\u001b[1;33m[\u001b[0m\u001b[1;34m\"keyword\"\u001b[0m\u001b[1;33m]\u001b[0m\u001b[1;33m+\u001b[0m\u001b[1;34m\"/taglevel/channel\"\u001b[0m\u001b[1;33m)\u001b[0m\u001b[1;33m\u001b[0m\u001b[1;33m\u001b[0m\u001b[0m\n",
      "\u001b[1;32m~\\Documents\\anaconda3\\lib\\os.py\u001b[0m in \u001b[0;36mmakedirs\u001b[1;34m(name, mode, exist_ok)\u001b[0m\n\u001b[0;32m    221\u001b[0m             \u001b[1;32mreturn\u001b[0m\u001b[1;33m\u001b[0m\u001b[1;33m\u001b[0m\u001b[0m\n\u001b[0;32m    222\u001b[0m     \u001b[1;32mtry\u001b[0m\u001b[1;33m:\u001b[0m\u001b[1;33m\u001b[0m\u001b[1;33m\u001b[0m\u001b[0m\n\u001b[1;32m--> 223\u001b[1;33m         \u001b[0mmkdir\u001b[0m\u001b[1;33m(\u001b[0m\u001b[0mname\u001b[0m\u001b[1;33m,\u001b[0m \u001b[0mmode\u001b[0m\u001b[1;33m)\u001b[0m\u001b[1;33m\u001b[0m\u001b[1;33m\u001b[0m\u001b[0m\n\u001b[0m\u001b[0;32m    224\u001b[0m     \u001b[1;32mexcept\u001b[0m \u001b[0mOSError\u001b[0m\u001b[1;33m:\u001b[0m\u001b[1;33m\u001b[0m\u001b[1;33m\u001b[0m\u001b[0m\n\u001b[0;32m    225\u001b[0m         \u001b[1;31m# Cannot rely on checking for EEXIST, since the operating system\u001b[0m\u001b[1;33m\u001b[0m\u001b[1;33m\u001b[0m\u001b[1;33m\u001b[0m\u001b[0m\n",
      "\u001b[1;31mFileExistsError\u001b[0m: [WinError 183] Cannot create a file when that file already exists: 'analysis/Python'"
     ]
    }
   ],
   "source": [
    "dirname = \"analysis\"\n",
    "if not os.path.exists(dirname):\n",
    "        os.makedirs(dirname)\n",
    "\n",
    "dirname = \"data\"\n",
    "if not os.path.exists(dirname):\n",
    "        os.makedirs(dirname)\n",
    "del dirname\n",
    "os.makedirs(\"analysis/\"+query[\"keyword\"])\n",
    "os.makedirs(\"analysis/\"+query[\"keyword\"]+\"/taglevel\")\n",
    "os.makedirs(\"analysis/\"+query[\"keyword\"]+\"/taglevel/channel\")\n",
    "os.makedirs(\"analysis/\"+query[\"keyword\"]+\"/taglevel/playlist\")"
   ]
  },
  {
   "cell_type": "markdown",
   "metadata": {},
   "source": [
    "## Importing Data"
   ]
  },
  {
   "cell_type": "code",
   "execution_count": 27,
   "metadata": {},
   "outputs": [],
   "source": [
    "search_data = pd.read_csv(\"data/\"+ query[\"keyword\"] +\"/processed_search_data.csv\")\n",
    "playlist_data = pd.read_csv(\"data/\"+ query[\"keyword\"] +\"/processed_playlist_video_data.csv\")\n",
    "video_data = pd.read_csv(\"data/\"+ query[\"keyword\"] +\"/processed_video_data.csv\",low_memory=False)"
   ]
  },
  {
   "cell_type": "code",
   "execution_count": 28,
   "metadata": {},
   "outputs": [
    {
     "data": {
      "text/plain": [
       "((50, 35), (494, 22), (539, 723))"
      ]
     },
     "execution_count": 28,
     "metadata": {},
     "output_type": "execute_result"
    }
   ],
   "source": [
    "## size of a datasets\n",
    "search_data.shape, playlist_data.shape, video_data.shape"
   ]
  },
  {
   "cell_type": "code",
   "execution_count": 10,
   "metadata": {},
   "outputs": [
    {
     "data": {
      "text/plain": [
       "(None, None, None)"
      ]
     },
     "execution_count": 10,
     "metadata": {},
     "output_type": "execute_result"
    }
   ],
   "source": [
    "## removing duplicates record\n",
    "search_data.drop_duplicates(inplace=True),playlist_data.drop_duplicates(inplace=True),video_data.drop_duplicates(inplace=True)"
   ]
  },
  {
   "cell_type": "code",
   "execution_count": 30,
   "metadata": {},
   "outputs": [
    {
     "data": {
      "text/html": [
       "<div>\n",
       "<style scoped>\n",
       "    .dataframe tbody tr th:only-of-type {\n",
       "        vertical-align: middle;\n",
       "    }\n",
       "\n",
       "    .dataframe tbody tr th {\n",
       "        vertical-align: top;\n",
       "    }\n",
       "\n",
       "    .dataframe thead th {\n",
       "        text-align: right;\n",
       "    }\n",
       "</style>\n",
       "<table border=\"1\" class=\"dataframe\">\n",
       "  <thead>\n",
       "    <tr style=\"text-align: right;\">\n",
       "      <th></th>\n",
       "      <th>0</th>\n",
       "      <th>1</th>\n",
       "      <th>2</th>\n",
       "      <th>3</th>\n",
       "      <th>4</th>\n",
       "    </tr>\n",
       "  </thead>\n",
       "  <tbody>\n",
       "    <tr>\n",
       "      <th>keywords-&gt;0</th>\n",
       "      <td>Python Tutorial in Hindi</td>\n",
       "      <td>python tutorial</td>\n",
       "      <td>python</td>\n",
       "      <td>yt:cc=on</td>\n",
       "      <td>Great Learning</td>\n",
       "    </tr>\n",
       "    <tr>\n",
       "      <th>keywords-&gt;1</th>\n",
       "      <td>Learn Python in Hindi</td>\n",
       "      <td>python</td>\n",
       "      <td>python tutorial</td>\n",
       "      <td>python tutorial</td>\n",
       "      <td>Great Lakes</td>\n",
       "    </tr>\n",
       "    <tr>\n",
       "      <th>keywords-&gt;2</th>\n",
       "      <td>Python Full Course in Hindi</td>\n",
       "      <td>python for beginners</td>\n",
       "      <td>python language</td>\n",
       "      <td>python</td>\n",
       "      <td>Python Tutorial in Hindi</td>\n",
       "    </tr>\n",
       "    <tr>\n",
       "      <th>keywords-&gt;3</th>\n",
       "      <td>Python Tutorial for beginners</td>\n",
       "      <td>python tutorial for beginners</td>\n",
       "      <td>python full course</td>\n",
       "      <td>python for beginners</td>\n",
       "      <td>Python in Hindi</td>\n",
       "    </tr>\n",
       "    <tr>\n",
       "      <th>keywords-&gt;4</th>\n",
       "      <td>python hindi</td>\n",
       "      <td>learn python</td>\n",
       "      <td>python course</td>\n",
       "      <td>python tutorial for beginners</td>\n",
       "      <td>Learn Python in Hindi</td>\n",
       "    </tr>\n",
       "    <tr>\n",
       "      <th>keywords-&gt;5</th>\n",
       "      <td>complete python tutorial</td>\n",
       "      <td>python crash course</td>\n",
       "      <td>learn python</td>\n",
       "      <td>python full course</td>\n",
       "      <td>Python tutorial for beginners in Hindi</td>\n",
       "    </tr>\n",
       "    <tr>\n",
       "      <th>keywords-&gt;6</th>\n",
       "      <td>python tutorial by harry</td>\n",
       "      <td>python 2019</td>\n",
       "      <td>learn python programming</td>\n",
       "      <td>python programming</td>\n",
       "      <td>Python Full Course in Hindi</td>\n",
       "    </tr>\n",
       "    <tr>\n",
       "      <th>keywords-&gt;7</th>\n",
       "      <td>python tutorial code with harry</td>\n",
       "      <td>python tutorial for beginners full</td>\n",
       "      <td>python tutorial for beginners</td>\n",
       "      <td>python (programming language)</td>\n",
       "      <td>Python Hindi</td>\n",
       "    </tr>\n",
       "    <tr>\n",
       "      <th>keywords-&gt;8</th>\n",
       "      <td>python tutorial by Harry bhai</td>\n",
       "      <td>python (programming language)</td>\n",
       "      <td>python tutorial 2018</td>\n",
       "      <td>python programming language</td>\n",
       "      <td>Python Programming in Hindi</td>\n",
       "    </tr>\n",
       "    <tr>\n",
       "      <th>keywords-&gt;9</th>\n",
       "      <td>python tutorial in hindi</td>\n",
       "      <td>python basics</td>\n",
       "      <td>python programming tutorial</td>\n",
       "      <td>learn python</td>\n",
       "      <td>Python Tutorial in Hindi for beginners</td>\n",
       "    </tr>\n",
       "    <tr>\n",
       "      <th>keywords-&gt;10</th>\n",
       "      <td>python class 10 cbse</td>\n",
       "      <td>python course</td>\n",
       "      <td>python programming language</td>\n",
       "      <td>edureka python</td>\n",
       "      <td>Python Tutorial</td>\n",
       "    </tr>\n",
       "    <tr>\n",
       "      <th>keywords-&gt;11</th>\n",
       "      <td>python tutorial</td>\n",
       "      <td>python from scratch</td>\n",
       "      <td>software development</td>\n",
       "      <td>python training</td>\n",
       "      <td>Python</td>\n",
       "    </tr>\n",
       "    <tr>\n",
       "      <th>keywords-&gt;12</th>\n",
       "      <td>python class 12</td>\n",
       "      <td>python full course</td>\n",
       "      <td>programming tutorial</td>\n",
       "      <td>python programming tutorial</td>\n",
       "      <td>Python Tutorial for Beginners</td>\n",
       "    </tr>\n",
       "    <tr>\n",
       "      <th>keywords-&gt;13</th>\n",
       "      <td>learn python for free</td>\n",
       "      <td>python language</td>\n",
       "      <td>freecodecamp</td>\n",
       "      <td>learn python programming</td>\n",
       "      <td>Python programming</td>\n",
       "    </tr>\n",
       "    <tr>\n",
       "      <th>keywords-&gt;14</th>\n",
       "      <td>python course in hindi free</td>\n",
       "      <td>python programming</td>\n",
       "      <td>NaN</td>\n",
       "      <td>python tutorials</td>\n",
       "      <td>Python for beginners</td>\n",
       "    </tr>\n",
       "    <tr>\n",
       "      <th>keywords-&gt;15</th>\n",
       "      <td>hindi course python</td>\n",
       "      <td>python programming language</td>\n",
       "      <td>NaN</td>\n",
       "      <td>python course</td>\n",
       "      <td>Learn Python</td>\n",
       "    </tr>\n",
       "    <tr>\n",
       "      <th>keywords-&gt;16</th>\n",
       "      <td>learn python hindi</td>\n",
       "      <td>python programming tutorial</td>\n",
       "      <td>NaN</td>\n",
       "      <td>best python course</td>\n",
       "      <td>Python for Data Science</td>\n",
       "    </tr>\n",
       "    <tr>\n",
       "      <th>keywords-&gt;17</th>\n",
       "      <td>hindi tutorial on python</td>\n",
       "      <td>getting started with python</td>\n",
       "      <td>NaN</td>\n",
       "      <td>edureka</td>\n",
       "      <td>Python for Data Analytics</td>\n",
       "    </tr>\n",
       "    <tr>\n",
       "      <th>keywords-&gt;18</th>\n",
       "      <td>python programming tutorial in hindi</td>\n",
       "      <td>learn python programming</td>\n",
       "      <td>NaN</td>\n",
       "      <td>python from scratch</td>\n",
       "      <td>Python for Machine Learning</td>\n",
       "    </tr>\n",
       "    <tr>\n",
       "      <th>keywords-&gt;19</th>\n",
       "      <td>NaN</td>\n",
       "      <td>web development</td>\n",
       "      <td>NaN</td>\n",
       "      <td>python edureka</td>\n",
       "      <td>Python Data Science Hindi</td>\n",
       "    </tr>\n",
       "    <tr>\n",
       "      <th>keywords-&gt;20</th>\n",
       "      <td>NaN</td>\n",
       "      <td>mosh hamedani</td>\n",
       "      <td>NaN</td>\n",
       "      <td>python language</td>\n",
       "      <td>Python 2020</td>\n",
       "    </tr>\n",
       "    <tr>\n",
       "      <th>keywords-&gt;21</th>\n",
       "      <td>NaN</td>\n",
       "      <td>machine learning</td>\n",
       "      <td>NaN</td>\n",
       "      <td>python basics</td>\n",
       "      <td>NaN</td>\n",
       "    </tr>\n",
       "    <tr>\n",
       "      <th>keywords-&gt;22</th>\n",
       "      <td>NaN</td>\n",
       "      <td>python 2020</td>\n",
       "      <td>NaN</td>\n",
       "      <td>python tutorial 2021</td>\n",
       "      <td>NaN</td>\n",
       "    </tr>\n",
       "    <tr>\n",
       "      <th>keywords-&gt;23</th>\n",
       "      <td>NaN</td>\n",
       "      <td>NaN</td>\n",
       "      <td>NaN</td>\n",
       "      <td>NaN</td>\n",
       "      <td>NaN</td>\n",
       "    </tr>\n",
       "    <tr>\n",
       "      <th>keywords-&gt;24</th>\n",
       "      <td>NaN</td>\n",
       "      <td>NaN</td>\n",
       "      <td>NaN</td>\n",
       "      <td>NaN</td>\n",
       "      <td>NaN</td>\n",
       "    </tr>\n",
       "    <tr>\n",
       "      <th>keywords-&gt;25</th>\n",
       "      <td>NaN</td>\n",
       "      <td>NaN</td>\n",
       "      <td>NaN</td>\n",
       "      <td>NaN</td>\n",
       "      <td>NaN</td>\n",
       "    </tr>\n",
       "    <tr>\n",
       "      <th>keywords-&gt;26</th>\n",
       "      <td>NaN</td>\n",
       "      <td>NaN</td>\n",
       "      <td>NaN</td>\n",
       "      <td>NaN</td>\n",
       "      <td>NaN</td>\n",
       "    </tr>\n",
       "    <tr>\n",
       "      <th>keywords-&gt;27</th>\n",
       "      <td>NaN</td>\n",
       "      <td>NaN</td>\n",
       "      <td>NaN</td>\n",
       "      <td>NaN</td>\n",
       "      <td>NaN</td>\n",
       "    </tr>\n",
       "    <tr>\n",
       "      <th>keywords</th>\n",
       "      <td>NaN</td>\n",
       "      <td>NaN</td>\n",
       "      <td>NaN</td>\n",
       "      <td>NaN</td>\n",
       "      <td>NaN</td>\n",
       "    </tr>\n",
       "    <tr>\n",
       "      <th>keywords-&gt;28</th>\n",
       "      <td>NaN</td>\n",
       "      <td>NaN</td>\n",
       "      <td>NaN</td>\n",
       "      <td>NaN</td>\n",
       "      <td>NaN</td>\n",
       "    </tr>\n",
       "    <tr>\n",
       "      <th>keywords-&gt;29</th>\n",
       "      <td>NaN</td>\n",
       "      <td>NaN</td>\n",
       "      <td>NaN</td>\n",
       "      <td>NaN</td>\n",
       "      <td>NaN</td>\n",
       "    </tr>\n",
       "    <tr>\n",
       "      <th>keywords-&gt;30</th>\n",
       "      <td>NaN</td>\n",
       "      <td>NaN</td>\n",
       "      <td>NaN</td>\n",
       "      <td>NaN</td>\n",
       "      <td>NaN</td>\n",
       "    </tr>\n",
       "    <tr>\n",
       "      <th>keywords-&gt;31</th>\n",
       "      <td>NaN</td>\n",
       "      <td>NaN</td>\n",
       "      <td>NaN</td>\n",
       "      <td>NaN</td>\n",
       "      <td>NaN</td>\n",
       "    </tr>\n",
       "    <tr>\n",
       "      <th>keywords-&gt;32</th>\n",
       "      <td>NaN</td>\n",
       "      <td>NaN</td>\n",
       "      <td>NaN</td>\n",
       "      <td>NaN</td>\n",
       "      <td>NaN</td>\n",
       "    </tr>\n",
       "    <tr>\n",
       "      <th>keywords-&gt;33</th>\n",
       "      <td>NaN</td>\n",
       "      <td>NaN</td>\n",
       "      <td>NaN</td>\n",
       "      <td>NaN</td>\n",
       "      <td>NaN</td>\n",
       "    </tr>\n",
       "    <tr>\n",
       "      <th>keywords-&gt;34</th>\n",
       "      <td>NaN</td>\n",
       "      <td>NaN</td>\n",
       "      <td>NaN</td>\n",
       "      <td>NaN</td>\n",
       "      <td>NaN</td>\n",
       "    </tr>\n",
       "    <tr>\n",
       "      <th>keywords-&gt;35</th>\n",
       "      <td>NaN</td>\n",
       "      <td>NaN</td>\n",
       "      <td>NaN</td>\n",
       "      <td>NaN</td>\n",
       "      <td>NaN</td>\n",
       "    </tr>\n",
       "    <tr>\n",
       "      <th>keywords-&gt;36</th>\n",
       "      <td>NaN</td>\n",
       "      <td>NaN</td>\n",
       "      <td>NaN</td>\n",
       "      <td>NaN</td>\n",
       "      <td>NaN</td>\n",
       "    </tr>\n",
       "    <tr>\n",
       "      <th>keywords-&gt;37</th>\n",
       "      <td>NaN</td>\n",
       "      <td>NaN</td>\n",
       "      <td>NaN</td>\n",
       "      <td>NaN</td>\n",
       "      <td>NaN</td>\n",
       "    </tr>\n",
       "  </tbody>\n",
       "</table>\n",
       "</div>"
      ],
      "text/plain": [
       "                                                 0  \\\n",
       "keywords->0               Python Tutorial in Hindi   \n",
       "keywords->1                  Learn Python in Hindi   \n",
       "keywords->2            Python Full Course in Hindi   \n",
       "keywords->3          Python Tutorial for beginners   \n",
       "keywords->4                           python hindi   \n",
       "keywords->5               complete python tutorial   \n",
       "keywords->6               python tutorial by harry   \n",
       "keywords->7        python tutorial code with harry   \n",
       "keywords->8          python tutorial by Harry bhai   \n",
       "keywords->9               python tutorial in hindi   \n",
       "keywords->10                  python class 10 cbse   \n",
       "keywords->11                       python tutorial   \n",
       "keywords->12                       python class 12   \n",
       "keywords->13                 learn python for free   \n",
       "keywords->14           python course in hindi free   \n",
       "keywords->15                   hindi course python   \n",
       "keywords->16                    learn python hindi   \n",
       "keywords->17              hindi tutorial on python   \n",
       "keywords->18  python programming tutorial in hindi   \n",
       "keywords->19                                   NaN   \n",
       "keywords->20                                   NaN   \n",
       "keywords->21                                   NaN   \n",
       "keywords->22                                   NaN   \n",
       "keywords->23                                   NaN   \n",
       "keywords->24                                   NaN   \n",
       "keywords->25                                   NaN   \n",
       "keywords->26                                   NaN   \n",
       "keywords->27                                   NaN   \n",
       "keywords                                       NaN   \n",
       "keywords->28                                   NaN   \n",
       "keywords->29                                   NaN   \n",
       "keywords->30                                   NaN   \n",
       "keywords->31                                   NaN   \n",
       "keywords->32                                   NaN   \n",
       "keywords->33                                   NaN   \n",
       "keywords->34                                   NaN   \n",
       "keywords->35                                   NaN   \n",
       "keywords->36                                   NaN   \n",
       "keywords->37                                   NaN   \n",
       "\n",
       "                                               1  \\\n",
       "keywords->0                      python tutorial   \n",
       "keywords->1                               python   \n",
       "keywords->2                 python for beginners   \n",
       "keywords->3        python tutorial for beginners   \n",
       "keywords->4                         learn python   \n",
       "keywords->5                  python crash course   \n",
       "keywords->6                          python 2019   \n",
       "keywords->7   python tutorial for beginners full   \n",
       "keywords->8        python (programming language)   \n",
       "keywords->9                        python basics   \n",
       "keywords->10                       python course   \n",
       "keywords->11                 python from scratch   \n",
       "keywords->12                  python full course   \n",
       "keywords->13                     python language   \n",
       "keywords->14                  python programming   \n",
       "keywords->15         python programming language   \n",
       "keywords->16         python programming tutorial   \n",
       "keywords->17         getting started with python   \n",
       "keywords->18            learn python programming   \n",
       "keywords->19                     web development   \n",
       "keywords->20                       mosh hamedani   \n",
       "keywords->21                    machine learning   \n",
       "keywords->22                         python 2020   \n",
       "keywords->23                                 NaN   \n",
       "keywords->24                                 NaN   \n",
       "keywords->25                                 NaN   \n",
       "keywords->26                                 NaN   \n",
       "keywords->27                                 NaN   \n",
       "keywords                                     NaN   \n",
       "keywords->28                                 NaN   \n",
       "keywords->29                                 NaN   \n",
       "keywords->30                                 NaN   \n",
       "keywords->31                                 NaN   \n",
       "keywords->32                                 NaN   \n",
       "keywords->33                                 NaN   \n",
       "keywords->34                                 NaN   \n",
       "keywords->35                                 NaN   \n",
       "keywords->36                                 NaN   \n",
       "keywords->37                                 NaN   \n",
       "\n",
       "                                          2                              3  \\\n",
       "keywords->0                          python                       yt:cc=on   \n",
       "keywords->1                 python tutorial                python tutorial   \n",
       "keywords->2                 python language                         python   \n",
       "keywords->3              python full course           python for beginners   \n",
       "keywords->4                   python course  python tutorial for beginners   \n",
       "keywords->5                    learn python             python full course   \n",
       "keywords->6        learn python programming             python programming   \n",
       "keywords->7   python tutorial for beginners  python (programming language)   \n",
       "keywords->8            python tutorial 2018    python programming language   \n",
       "keywords->9     python programming tutorial                   learn python   \n",
       "keywords->10    python programming language                 edureka python   \n",
       "keywords->11           software development                python training   \n",
       "keywords->12           programming tutorial    python programming tutorial   \n",
       "keywords->13                   freecodecamp       learn python programming   \n",
       "keywords->14                            NaN               python tutorials   \n",
       "keywords->15                            NaN                  python course   \n",
       "keywords->16                            NaN             best python course   \n",
       "keywords->17                            NaN                        edureka   \n",
       "keywords->18                            NaN            python from scratch   \n",
       "keywords->19                            NaN                 python edureka   \n",
       "keywords->20                            NaN                python language   \n",
       "keywords->21                            NaN                  python basics   \n",
       "keywords->22                            NaN           python tutorial 2021   \n",
       "keywords->23                            NaN                            NaN   \n",
       "keywords->24                            NaN                            NaN   \n",
       "keywords->25                            NaN                            NaN   \n",
       "keywords->26                            NaN                            NaN   \n",
       "keywords->27                            NaN                            NaN   \n",
       "keywords                                NaN                            NaN   \n",
       "keywords->28                            NaN                            NaN   \n",
       "keywords->29                            NaN                            NaN   \n",
       "keywords->30                            NaN                            NaN   \n",
       "keywords->31                            NaN                            NaN   \n",
       "keywords->32                            NaN                            NaN   \n",
       "keywords->33                            NaN                            NaN   \n",
       "keywords->34                            NaN                            NaN   \n",
       "keywords->35                            NaN                            NaN   \n",
       "keywords->36                            NaN                            NaN   \n",
       "keywords->37                            NaN                            NaN   \n",
       "\n",
       "                                                   4  \n",
       "keywords->0                           Great Learning  \n",
       "keywords->1                              Great Lakes  \n",
       "keywords->2                 Python Tutorial in Hindi  \n",
       "keywords->3                          Python in Hindi  \n",
       "keywords->4                    Learn Python in Hindi  \n",
       "keywords->5   Python tutorial for beginners in Hindi  \n",
       "keywords->6              Python Full Course in Hindi  \n",
       "keywords->7                             Python Hindi  \n",
       "keywords->8              Python Programming in Hindi  \n",
       "keywords->9   Python Tutorial in Hindi for beginners  \n",
       "keywords->10                         Python Tutorial  \n",
       "keywords->11                                  Python  \n",
       "keywords->12           Python Tutorial for Beginners  \n",
       "keywords->13                      Python programming  \n",
       "keywords->14                    Python for beginners  \n",
       "keywords->15                            Learn Python  \n",
       "keywords->16                 Python for Data Science  \n",
       "keywords->17               Python for Data Analytics  \n",
       "keywords->18             Python for Machine Learning  \n",
       "keywords->19               Python Data Science Hindi  \n",
       "keywords->20                             Python 2020  \n",
       "keywords->21                                     NaN  \n",
       "keywords->22                                     NaN  \n",
       "keywords->23                                     NaN  \n",
       "keywords->24                                     NaN  \n",
       "keywords->25                                     NaN  \n",
       "keywords->26                                     NaN  \n",
       "keywords->27                                     NaN  \n",
       "keywords                                         NaN  \n",
       "keywords->28                                     NaN  \n",
       "keywords->29                                     NaN  \n",
       "keywords->30                                     NaN  \n",
       "keywords->31                                     NaN  \n",
       "keywords->32                                     NaN  \n",
       "keywords->33                                     NaN  \n",
       "keywords->34                                     NaN  \n",
       "keywords->35                                     NaN  \n",
       "keywords->36                                     NaN  \n",
       "keywords->37                                     NaN  "
      ]
     },
     "execution_count": 30,
     "metadata": {},
     "output_type": "execute_result"
    }
   ],
   "source": [
    "video_data[[col for col in video_data.columns if \"keyword\" in col]].head().T"
   ]
  },
  {
   "cell_type": "code",
   "execution_count": null,
   "metadata": {},
   "outputs": [],
   "source": []
  },
  {
   "cell_type": "code",
   "execution_count": null,
   "metadata": {},
   "outputs": [],
   "source": []
  },
  {
   "cell_type": "code",
   "execution_count": 11,
   "metadata": {},
   "outputs": [
    {
     "data": {
      "text/plain": [
       "((50, 35), (494, 22), (539, 723))"
      ]
     },
     "execution_count": 11,
     "metadata": {},
     "output_type": "execute_result"
    }
   ],
   "source": [
    "## size of a datasets\n",
    "search_data.shape, playlist_data.shape, video_data.shape"
   ]
  },
  {
   "cell_type": "code",
   "execution_count": 12,
   "metadata": {},
   "outputs": [
    {
     "data": {
      "text/plain": [
       "video       94.0\n",
       "playlist     6.0\n",
       "Name: type, dtype: float64"
      ]
     },
     "execution_count": 12,
     "metadata": {},
     "output_type": "execute_result"
    }
   ],
   "source": [
    "temp = round(100*(search_data[\"type\"].value_counts())/search_data[\"type\"].shape[0],2)\n",
    "temp"
   ]
  },
  {
   "cell_type": "markdown",
   "metadata": {},
   "source": [
    "## Youtube Search"
   ]
  },
  {
   "cell_type": "code",
   "execution_count": 13,
   "metadata": {},
   "outputs": [
    {
     "data": {
      "image/png": "[encoded data removed]",
      "text/plain": [
       "<Figure size 432x288 with 1 Axes>"
      ]
     },
     "metadata": {},
     "output_type": "display_data"
    }
   ],
   "source": [
    "plt.pie(temp,explode=tuple([0] + [0.2]*(temp.shape[0]-1)),labels=temp.index,autopct='%1.2f%%')\n",
    "plt.title(\"Category Distribution of keyword 'python' (%)\")\n",
    "plt.tight_layout()\n",
    "plt.show()\n",
    "del temp"
   ]
  },
  {
   "cell_type": "markdown",
   "metadata": {},
   "source": [
    "## Data Cleaning and Formatting"
   ]
  },
  {
   "cell_type": "code",
   "execution_count": 25,
   "metadata": {},
   "outputs": [
    {
     "ename": "NameError",
     "evalue": "name 'video_data' is not defined",
     "output_type": "error",
     "traceback": [
      "\u001b[1;31m---------------------------------------------------------------------------\u001b[0m",
      "\u001b[1;31mNameError\u001b[0m                                 Traceback (most recent call last)",
      "\u001b[1;32m<ipython-input-25-34fd67b5ab90>\u001b[0m in \u001b[0;36m<module>\u001b[1;34m\u001b[0m\n\u001b[0;32m      1\u001b[0m \u001b[1;31m## fetched records have multiple entries\u001b[0m\u001b[1;33m\u001b[0m\u001b[1;33m\u001b[0m\u001b[1;33m\u001b[0m\u001b[0m\n\u001b[1;32m----> 2\u001b[1;33m \u001b[0mvideo_data\u001b[0m\u001b[1;33m[\u001b[0m\u001b[1;34m\"id\"\u001b[0m\u001b[1;33m]\u001b[0m\u001b[1;33m.\u001b[0m\u001b[0mvalue_counts\u001b[0m\u001b[1;33m(\u001b[0m\u001b[1;33m)\u001b[0m\u001b[1;33m\u001b[0m\u001b[1;33m\u001b[0m\u001b[0m\n\u001b[0m",
      "\u001b[1;31mNameError\u001b[0m: name 'video_data' is not defined"
     ]
    }
   ],
   "source": [
    "## fetched records have multiple entries\n",
    "video_data[\"id\"].value_counts()"
   ]
  },
  {
   "cell_type": "code",
   "execution_count": 15,
   "metadata": {},
   "outputs": [],
   "source": [
    "# Dropping duplicate video records and selecting video with maximum views\n",
    "video_data = video_data.sort_values(\"viewCount->text\",ascending=False).drop_duplicates(\"id\")"
   ]
  },
  {
   "cell_type": "code",
   "execution_count": 16,
   "metadata": {},
   "outputs": [
    {
     "data": {
      "text/html": [
       "<div>\n",
       "<style scoped>\n",
       "    .dataframe tbody tr th:only-of-type {\n",
       "        vertical-align: middle;\n",
       "    }\n",
       "\n",
       "    .dataframe tbody tr th {\n",
       "        vertical-align: top;\n",
       "    }\n",
       "\n",
       "    .dataframe thead th {\n",
       "        text-align: right;\n",
       "    }\n",
       "</style>\n",
       "<table border=\"1\" class=\"dataframe\">\n",
       "  <thead>\n",
       "    <tr style=\"text-align: right;\">\n",
       "      <th></th>\n",
       "      <th>id_x</th>\n",
       "      <th>title_x</th>\n",
       "      <th>thumbnails-&gt;0-&gt;url_x</th>\n",
       "      <th>thumbnails-&gt;0-&gt;width_x</th>\n",
       "      <th>thumbnails-&gt;0-&gt;height_x</th>\n",
       "      <th>thumbnails-&gt;1-&gt;url_x</th>\n",
       "      <th>thumbnails-&gt;1-&gt;width_x</th>\n",
       "      <th>thumbnails-&gt;1-&gt;height_x</th>\n",
       "      <th>thumbnails-&gt;2-&gt;url_x</th>\n",
       "      <th>thumbnails-&gt;2-&gt;width_x</th>\n",
       "      <th>...</th>\n",
       "      <th>streamingData-&gt;adaptiveFormats-&gt;9-&gt;type</th>\n",
       "      <th>streamingData-&gt;adaptiveFormats-&gt;10-&gt;type</th>\n",
       "      <th>streamingData-&gt;adaptiveFormats-&gt;12-&gt;type</th>\n",
       "      <th>streamingData-&gt;adaptiveFormats-&gt;13-&gt;type</th>\n",
       "      <th>streamingData-&gt;dashManifestUrl</th>\n",
       "      <th>streamingData-&gt;adaptiveFormats-&gt;2-&gt;type</th>\n",
       "      <th>streamingData-&gt;adaptiveFormats-&gt;5-&gt;type</th>\n",
       "      <th>streamingData-&gt;adaptiveFormats-&gt;6-&gt;type</th>\n",
       "      <th>streamingData-&gt;adaptiveFormats-&gt;8-&gt;type</th>\n",
       "      <th>streamingData-&gt;adaptiveFormats-&gt;11-&gt;type</th>\n",
       "    </tr>\n",
       "  </thead>\n",
       "  <tbody>\n",
       "    <tr>\n",
       "      <th>0</th>\n",
       "      <td>QXeEoD0pB3E</td>\n",
       "      <td>#0 Python Programming Tutorial for Beginners |...</td>\n",
       "      <td>https://i.ytimg.com/vi/QXeEoD0pB3E/hqdefault.j...</td>\n",
       "      <td>168</td>\n",
       "      <td>94</td>\n",
       "      <td>https://i.ytimg.com/vi/QXeEoD0pB3E/hqdefault.j...</td>\n",
       "      <td>196</td>\n",
       "      <td>110</td>\n",
       "      <td>https://i.ytimg.com/vi/QXeEoD0pB3E/hqdefault.j...</td>\n",
       "      <td>246</td>\n",
       "      <td>...</td>\n",
       "      <td>NaN</td>\n",
       "      <td>NaN</td>\n",
       "      <td>NaN</td>\n",
       "      <td>NaN</td>\n",
       "      <td>NaN</td>\n",
       "      <td>NaN</td>\n",
       "      <td>NaN</td>\n",
       "      <td>NaN</td>\n",
       "      <td>NaN</td>\n",
       "      <td>NaN</td>\n",
       "    </tr>\n",
       "    <tr>\n",
       "      <th>1</th>\n",
       "      <td>hEgO047GxaQ</td>\n",
       "      <td>#1 Python Tutorial for Beginners | Introductio...</td>\n",
       "      <td>https://i.ytimg.com/vi/hEgO047GxaQ/hqdefault.j...</td>\n",
       "      <td>168</td>\n",
       "      <td>94</td>\n",
       "      <td>https://i.ytimg.com/vi/hEgO047GxaQ/hqdefault.j...</td>\n",
       "      <td>196</td>\n",
       "      <td>110</td>\n",
       "      <td>https://i.ytimg.com/vi/hEgO047GxaQ/hqdefault.j...</td>\n",
       "      <td>246</td>\n",
       "      <td>...</td>\n",
       "      <td>NaN</td>\n",
       "      <td>NaN</td>\n",
       "      <td>NaN</td>\n",
       "      <td>NaN</td>\n",
       "      <td>NaN</td>\n",
       "      <td>NaN</td>\n",
       "      <td>NaN</td>\n",
       "      <td>NaN</td>\n",
       "      <td>NaN</td>\n",
       "      <td>NaN</td>\n",
       "    </tr>\n",
       "  </tbody>\n",
       "</table>\n",
       "<p>2 rows × 747 columns</p>\n",
       "</div>"
      ],
      "text/plain": [
       "          id_x                                            title_x  \\\n",
       "0  QXeEoD0pB3E  #0 Python Programming Tutorial for Beginners |...   \n",
       "1  hEgO047GxaQ  #1 Python Tutorial for Beginners | Introductio...   \n",
       "\n",
       "                                thumbnails->0->url_x  thumbnails->0->width_x  \\\n",
       "0  https://i.ytimg.com/vi/QXeEoD0pB3E/hqdefault.j...                     168   \n",
       "1  https://i.ytimg.com/vi/hEgO047GxaQ/hqdefault.j...                     168   \n",
       "\n",
       "   thumbnails->0->height_x                               thumbnails->1->url_x  \\\n",
       "0                       94  https://i.ytimg.com/vi/QXeEoD0pB3E/hqdefault.j...   \n",
       "1                       94  https://i.ytimg.com/vi/hEgO047GxaQ/hqdefault.j...   \n",
       "\n",
       "   thumbnails->1->width_x  thumbnails->1->height_x  \\\n",
       "0                     196                      110   \n",
       "1                     196                      110   \n",
       "\n",
       "                                thumbnails->2->url_x  thumbnails->2->width_x  \\\n",
       "0  https://i.ytimg.com/vi/QXeEoD0pB3E/hqdefault.j...                     246   \n",
       "1  https://i.ytimg.com/vi/hEgO047GxaQ/hqdefault.j...                     246   \n",
       "\n",
       "   ...  streamingData->adaptiveFormats->9->type  \\\n",
       "0  ...                                      NaN   \n",
       "1  ...                                      NaN   \n",
       "\n",
       "  streamingData->adaptiveFormats->10->type  \\\n",
       "0                                      NaN   \n",
       "1                                      NaN   \n",
       "\n",
       "   streamingData->adaptiveFormats->12->type  \\\n",
       "0                                       NaN   \n",
       "1                                       NaN   \n",
       "\n",
       "   streamingData->adaptiveFormats->13->type streamingData->dashManifestUrl  \\\n",
       "0                                       NaN                            NaN   \n",
       "1                                       NaN                            NaN   \n",
       "\n",
       "  streamingData->adaptiveFormats->2->type  \\\n",
       "0                                     NaN   \n",
       "1                                     NaN   \n",
       "\n",
       "  streamingData->adaptiveFormats->5->type  \\\n",
       "0                                     NaN   \n",
       "1                                     NaN   \n",
       "\n",
       "  streamingData->adaptiveFormats->6->type  \\\n",
       "0                                     NaN   \n",
       "1                                     NaN   \n",
       "\n",
       "  streamingData->adaptiveFormats->8->type  \\\n",
       "0                                     NaN   \n",
       "1                                     NaN   \n",
       "\n",
       "  streamingData->adaptiveFormats->11->type  \n",
       "0                                      NaN  \n",
       "1                                      NaN  \n",
       "\n",
       "[2 rows x 747 columns]"
      ]
     },
     "execution_count": 16,
     "metadata": {},
     "output_type": "execute_result"
    }
   ],
   "source": [
    "## merging all three dataset with playlist id and video id.\n",
    "playlist_details = search_data[[\"id\",\"title\"]][search_data[\"type\"]==\"playlist\"].copy()\n",
    "playlist_data = pd.merge(playlist_data,playlist_details,how=\"right\",left_on=\"playlist_id\",right_on=\"id\")\n",
    "combined_data = pd.merge(playlist_data,video_data,how=\"left\",left_on=\"id_x\",right_on=\"id\")\n",
    "del playlist_details, playlist_data, video_data\n",
    "combined_data.head(2)"
   ]
  },
  {
   "cell_type": "code",
   "execution_count": 17,
   "metadata": {},
   "outputs": [
    {
     "data": {
      "text/html": [
       "<div>\n",
       "<style scoped>\n",
       "    .dataframe tbody tr th:only-of-type {\n",
       "        vertical-align: middle;\n",
       "    }\n",
       "\n",
       "    .dataframe tbody tr th {\n",
       "        vertical-align: top;\n",
       "    }\n",
       "\n",
       "    .dataframe thead th {\n",
       "        text-align: right;\n",
       "    }\n",
       "</style>\n",
       "<table border=\"1\" class=\"dataframe\">\n",
       "  <thead>\n",
       "    <tr style=\"text-align: right;\">\n",
       "      <th></th>\n",
       "      <th>id_x</th>\n",
       "      <th>title_x</th>\n",
       "      <th>thumbnails-&gt;0-&gt;url_x</th>\n",
       "      <th>thumbnails-&gt;0-&gt;width_x</th>\n",
       "      <th>thumbnails-&gt;0-&gt;height_x</th>\n",
       "      <th>thumbnails-&gt;1-&gt;url_x</th>\n",
       "      <th>thumbnails-&gt;1-&gt;width_x</th>\n",
       "      <th>thumbnails-&gt;1-&gt;height_x</th>\n",
       "      <th>thumbnails-&gt;2-&gt;url_x</th>\n",
       "      <th>thumbnails-&gt;2-&gt;width_x</th>\n",
       "      <th>...</th>\n",
       "      <th>streamingData-&gt;adaptiveFormats-&gt;10-&gt;type</th>\n",
       "      <th>streamingData-&gt;adaptiveFormats-&gt;12-&gt;type</th>\n",
       "      <th>streamingData-&gt;adaptiveFormats-&gt;13-&gt;type</th>\n",
       "      <th>streamingData-&gt;dashManifestUrl</th>\n",
       "      <th>streamingData-&gt;adaptiveFormats-&gt;2-&gt;type</th>\n",
       "      <th>streamingData-&gt;adaptiveFormats-&gt;5-&gt;type</th>\n",
       "      <th>streamingData-&gt;adaptiveFormats-&gt;6-&gt;type</th>\n",
       "      <th>streamingData-&gt;adaptiveFormats-&gt;8-&gt;type</th>\n",
       "      <th>streamingData-&gt;adaptiveFormats-&gt;11-&gt;type</th>\n",
       "      <th>duration_second</th>\n",
       "    </tr>\n",
       "  </thead>\n",
       "  <tbody>\n",
       "    <tr>\n",
       "      <th>0</th>\n",
       "      <td>QXeEoD0pB3E</td>\n",
       "      <td>#0 Python Programming Tutorial for Beginners |...</td>\n",
       "      <td>https://i.ytimg.com/vi/QXeEoD0pB3E/hqdefault.j...</td>\n",
       "      <td>168</td>\n",
       "      <td>94</td>\n",
       "      <td>https://i.ytimg.com/vi/QXeEoD0pB3E/hqdefault.j...</td>\n",
       "      <td>196</td>\n",
       "      <td>110</td>\n",
       "      <td>https://i.ytimg.com/vi/QXeEoD0pB3E/hqdefault.j...</td>\n",
       "      <td>246</td>\n",
       "      <td>...</td>\n",
       "      <td>NaN</td>\n",
       "      <td>NaN</td>\n",
       "      <td>NaN</td>\n",
       "      <td>NaN</td>\n",
       "      <td>NaN</td>\n",
       "      <td>NaN</td>\n",
       "      <td>NaN</td>\n",
       "      <td>NaN</td>\n",
       "      <td>NaN</td>\n",
       "      <td>66</td>\n",
       "    </tr>\n",
       "    <tr>\n",
       "      <th>1</th>\n",
       "      <td>hEgO047GxaQ</td>\n",
       "      <td>#1 Python Tutorial for Beginners | Introductio...</td>\n",
       "      <td>https://i.ytimg.com/vi/hEgO047GxaQ/hqdefault.j...</td>\n",
       "      <td>168</td>\n",
       "      <td>94</td>\n",
       "      <td>https://i.ytimg.com/vi/hEgO047GxaQ/hqdefault.j...</td>\n",
       "      <td>196</td>\n",
       "      <td>110</td>\n",
       "      <td>https://i.ytimg.com/vi/hEgO047GxaQ/hqdefault.j...</td>\n",
       "      <td>246</td>\n",
       "      <td>...</td>\n",
       "      <td>NaN</td>\n",
       "      <td>NaN</td>\n",
       "      <td>NaN</td>\n",
       "      <td>NaN</td>\n",
       "      <td>NaN</td>\n",
       "      <td>NaN</td>\n",
       "      <td>NaN</td>\n",
       "      <td>NaN</td>\n",
       "      <td>NaN</td>\n",
       "      <td>253</td>\n",
       "    </tr>\n",
       "  </tbody>\n",
       "</table>\n",
       "<p>2 rows × 747 columns</p>\n",
       "</div>"
      ],
      "text/plain": [
       "          id_x                                            title_x  \\\n",
       "0  QXeEoD0pB3E  #0 Python Programming Tutorial for Beginners |...   \n",
       "1  hEgO047GxaQ  #1 Python Tutorial for Beginners | Introductio...   \n",
       "\n",
       "                                thumbnails->0->url_x  thumbnails->0->width_x  \\\n",
       "0  https://i.ytimg.com/vi/QXeEoD0pB3E/hqdefault.j...                     168   \n",
       "1  https://i.ytimg.com/vi/hEgO047GxaQ/hqdefault.j...                     168   \n",
       "\n",
       "   thumbnails->0->height_x                               thumbnails->1->url_x  \\\n",
       "0                       94  https://i.ytimg.com/vi/QXeEoD0pB3E/hqdefault.j...   \n",
       "1                       94  https://i.ytimg.com/vi/hEgO047GxaQ/hqdefault.j...   \n",
       "\n",
       "   thumbnails->1->width_x  thumbnails->1->height_x  \\\n",
       "0                     196                      110   \n",
       "1                     196                      110   \n",
       "\n",
       "                                thumbnails->2->url_x  thumbnails->2->width_x  \\\n",
       "0  https://i.ytimg.com/vi/QXeEoD0pB3E/hqdefault.j...                     246   \n",
       "1  https://i.ytimg.com/vi/hEgO047GxaQ/hqdefault.j...                     246   \n",
       "\n",
       "   ...  streamingData->adaptiveFormats->10->type  \\\n",
       "0  ...                                       NaN   \n",
       "1  ...                                       NaN   \n",
       "\n",
       "  streamingData->adaptiveFormats->12->type  \\\n",
       "0                                      NaN   \n",
       "1                                      NaN   \n",
       "\n",
       "   streamingData->adaptiveFormats->13->type  streamingData->dashManifestUrl  \\\n",
       "0                                       NaN                             NaN   \n",
       "1                                       NaN                             NaN   \n",
       "\n",
       "  streamingData->adaptiveFormats->2->type  \\\n",
       "0                                     NaN   \n",
       "1                                     NaN   \n",
       "\n",
       "  streamingData->adaptiveFormats->5->type  \\\n",
       "0                                     NaN   \n",
       "1                                     NaN   \n",
       "\n",
       "  streamingData->adaptiveFormats->6->type  \\\n",
       "0                                     NaN   \n",
       "1                                     NaN   \n",
       "\n",
       "  streamingData->adaptiveFormats->8->type  \\\n",
       "0                                     NaN   \n",
       "1                                     NaN   \n",
       "\n",
       "  streamingData->adaptiveFormats->11->type duration_second  \n",
       "0                                      NaN              66  \n",
       "1                                      NaN             253  \n",
       "\n",
       "[2 rows x 747 columns]"
      ]
     },
     "execution_count": 17,
     "metadata": {},
     "output_type": "execute_result"
    }
   ],
   "source": [
    "## converting duration to seconds\n",
    "combined_data['duration_second'] = combined_data['duration'].apply(lambda x: sum(int(value)*60**index for index,value in enumerate(reversed(x.split(\":\")))))\n",
    "combined_data.drop(\"duration\",axis=1,inplace=True)\n",
    "combined_data.head(2)"
   ]
  },
  {
   "cell_type": "code",
   "execution_count": 26,
   "metadata": {},
   "outputs": [
    {
     "data": {
      "text/plain": [
       "(494, 61)"
      ]
     },
     "execution_count": 26,
     "metadata": {},
     "output_type": "execute_result"
    }
   ],
   "source": [
    "combined_data.shape"
   ]
  },
  {
   "cell_type": "code",
   "execution_count": 19,
   "metadata": {},
   "outputs": [],
   "source": [
    "# dropping empty columns\n",
    "combined_data_temp = 100*(combined_data.isna().sum())/combined_data.shape[0]\n",
    "combined_data_temp = combined_data_temp[combined_data_temp==100]\n",
    "combined_data.drop(combined_data_temp.index,axis=1,inplace=True)\n",
    "del combined_data_temp"
   ]
  },
  {
   "cell_type": "code",
   "execution_count": 20,
   "metadata": {},
   "outputs": [
    {
     "data": {
      "text/plain": [
       "(494, 675)"
      ]
     },
     "execution_count": 20,
     "metadata": {},
     "output_type": "execute_result"
    }
   ],
   "source": [
    "combined_data.shape"
   ]
  },
  {
   "cell_type": "code",
   "execution_count": 21,
   "metadata": {},
   "outputs": [],
   "source": [
    "## removing thumbnails details\n",
    "drop_col = [col for col in combined_data.columns if \"thumbnail\" in col]\n",
    "combined_data.drop(drop_col,axis=1,inplace=True)\n",
    "del drop_col"
   ]
  },
  {
   "cell_type": "code",
   "execution_count": 22,
   "metadata": {},
   "outputs": [
    {
     "data": {
      "text/plain": [
       "(494, 587)"
      ]
     },
     "execution_count": 22,
     "metadata": {},
     "output_type": "execute_result"
    }
   ],
   "source": [
    "## seperating streaming data for analysis in later stage\n",
    "combined_streaming_data = combined_data[[col for col in combined_data.columns if \"streamingData\" in col]].copy()\n",
    "combined_streaming_data.shape"
   ]
  },
  {
   "cell_type": "code",
   "execution_count": 23,
   "metadata": {},
   "outputs": [],
   "source": [
    "## dropping streamingData related columns\n",
    "combined_data.drop(combined_streaming_data.columns,axis=1,inplace=True)"
   ]
  },
  {
   "cell_type": "code",
   "execution_count": 24,
   "metadata": {},
   "outputs": [
    {
     "data": {
      "text/plain": [
       "(494, 61)"
      ]
     },
     "execution_count": 24,
     "metadata": {},
     "output_type": "execute_result"
    }
   ],
   "source": [
    "combined_data.shape"
   ]
  },
  {
   "cell_type": "markdown",
   "metadata": {},
   "source": [
    "## Classfying tags from Videos"
   ]
  },
  {
   "cell_type": "code",
   "execution_count": 21,
   "metadata": {},
   "outputs": [
    {
     "data": {
      "text/plain": [
       "2202"
      ]
     },
     "execution_count": 21,
     "metadata": {},
     "output_type": "execute_result"
    }
   ],
   "source": [
    "## extracting unique keywords and removing null values\n",
    "keyword_list = list(set(list(combined_data[[col for col in combined_data.columns if \"keyword\" in col]].to_numpy().flatten())))\n",
    "keyword_list = [x for x in keyword_list if str(x) != 'nan']\n",
    "len(keyword_list)"
   ]
  },
  {
   "cell_type": "code",
   "execution_count": 22,
   "metadata": {
    "scrolled": false
   },
   "outputs": [
    {
     "data": {
      "image/png": "[encoded data removed]",
      "text/plain": [
       "<Figure size 1080x576 with 1 Axes>"
      ]
     },
     "metadata": {
      "needs_background": "light"
     },
     "output_type": "display_data"
    }
   ],
   "source": [
    "## word cloud to visualize most frequent words.\n",
    "#convert list to string and generate\n",
    "unique_string=(\" \").join(keyword_list)\n",
    "wordcloud = WordCloud(width = 1000, height = 500).generate(unique_string)\n",
    "plt.figure(figsize=(15,8))\n",
    "plt.imshow(wordcloud)\n",
    "plt.axis(\"off\")\n",
    "plt.show()"
   ]
  },
  {
   "cell_type": "code",
   "execution_count": 23,
   "metadata": {},
   "outputs": [],
   "source": [
    "## combining all the tags in a single string and excluding null records\n",
    "combined_data[\"keyword\"] = combined_data[[col for col in combined_data.columns if \"keywords\" in col]].fillna(\"empty\").astype(str).agg(\"-\".join,axis=1).str.replace(\"-empty|empty\",\"\").str.lower()"
   ]
  },
  {
   "cell_type": "markdown",
   "metadata": {},
   "source": [
    "We can also consider more categories like:\n",
    "1. language(s): Content are in what language. I am considering Arabic and English for the time being\n",
    "2. Topic: like strings, list, generators, installation,etc."
   ]
  },
  {
   "cell_type": "code",
   "execution_count": 24,
   "metadata": {},
   "outputs": [],
   "source": [
    "tag_category = [\"tutorial\",\"hindi\",\"live\",\"regular\",\"api\",\n",
    "             \"advanced\",\"beginner\",\"flask\",\"django\",\"data science\",\"بايثون\",query[\"keyword\"].lower()]"
   ]
  },
  {
   "cell_type": "code",
   "execution_count": 25,
   "metadata": {},
   "outputs": [],
   "source": [
    "def find_cat(x):\n",
    "    out = ''\n",
    "    global tag_category\n",
    "    if x == \"\":\n",
    "        return \"No Category\"\n",
    "    \n",
    "    for cat in tag_category:\n",
    "        if cat in x:\n",
    "            if cat == \"بايثون\":\n",
    "                cat = \"Arabic\"\n",
    "            out += cat+\",\"\n",
    "    if out == '':\n",
    "        return \"Others\"\n",
    "    else:\n",
    "        return out[:-1]"
   ]
  },
  {
   "cell_type": "code",
   "execution_count": 26,
   "metadata": {
    "scrolled": false
   },
   "outputs": [],
   "source": [
    "combined_data[\"category\"] = combined_data[\"keyword\"].map(find_cat)"
   ]
  },
  {
   "cell_type": "code",
   "execution_count": 27,
   "metadata": {
    "scrolled": true
   },
   "outputs": [
    {
     "data": {
      "text/plain": [
       "tutorial,python                                181\n",
       "python                                          52\n",
       "tutorial,hindi,python                           50\n",
       "tutorial,beginner,python                        44\n",
       "tutorial,hindi,beginner,python                  44\n",
       "tutorial,data science,python                    26\n",
       "tutorial,django,python                          14\n",
       "tutorial,beginner,django,python                 12\n",
       "hindi,python                                    11\n",
       "No Category                                     10\n",
       "tutorial,beginner,flask,python                  10\n",
       "Others                                          10\n",
       "tutorial,api,data science,python                 6\n",
       "tutorial,api,python                              6\n",
       "tutorial,flask,python                            5\n",
       "beginner,python                                  3\n",
       "hindi,beginner,python                            2\n",
       "tutorial,beginner,data science,python            2\n",
       "tutorial,advanced,beginner,python                2\n",
       "tutorial,hindi,beginner,data science,python      1\n",
       "tutorial,live,data science,python                1\n",
       "tutorial,regular,python                          1\n",
       "tutorial                                         1\n",
       "Name: category, dtype: int64"
      ]
     },
     "execution_count": 27,
     "metadata": {},
     "output_type": "execute_result"
    }
   ],
   "source": [
    "combined_data[\"category\"].value_counts()"
   ]
  },
  {
   "cell_type": "code",
   "execution_count": 28,
   "metadata": {},
   "outputs": [],
   "source": [
    "# بايثون is used to identify videos in arabic\n",
    "tag_category.append(\"Arabic\")\n",
    "tag_category.remove('بايثون')"
   ]
  },
  {
   "cell_type": "markdown",
   "metadata": {},
   "source": [
    "Removing column that contains \"keyword\" and \"accessibility\" from the dataframe"
   ]
  },
  {
   "cell_type": "code",
   "execution_count": 29,
   "metadata": {},
   "outputs": [],
   "source": [
    "combined_data = combined_data[[col for col in combined_data.columns if \"keyword\" not in col and \"accessibility\" not in col]]"
   ]
  },
  {
   "cell_type": "code",
   "execution_count": 30,
   "metadata": {},
   "outputs": [
    {
     "data": {
      "text/html": [
       "<div>\n",
       "<style scoped>\n",
       "    .dataframe tbody tr th:only-of-type {\n",
       "        vertical-align: middle;\n",
       "    }\n",
       "\n",
       "    .dataframe tbody tr th {\n",
       "        vertical-align: top;\n",
       "    }\n",
       "\n",
       "    .dataframe thead th {\n",
       "        text-align: right;\n",
       "    }\n",
       "</style>\n",
       "<table border=\"1\" class=\"dataframe\">\n",
       "  <thead>\n",
       "    <tr style=\"text-align: right;\">\n",
       "      <th></th>\n",
       "      <th>id_x</th>\n",
       "      <th>title_x</th>\n",
       "      <th>channel-&gt;name_x</th>\n",
       "      <th>channel-&gt;id_x</th>\n",
       "      <th>channel-&gt;link_x</th>\n",
       "      <th>link_x</th>\n",
       "      <th>playlist_id</th>\n",
       "      <th>id_y</th>\n",
       "      <th>title_y</th>\n",
       "      <th>id</th>\n",
       "      <th>...</th>\n",
       "      <th>description</th>\n",
       "      <th>channel-&gt;name_y</th>\n",
       "      <th>channel-&gt;id_y</th>\n",
       "      <th>channel-&gt;link_y</th>\n",
       "      <th>averageRating</th>\n",
       "      <th>publishDate</th>\n",
       "      <th>uploadDate</th>\n",
       "      <th>link_y</th>\n",
       "      <th>duration_second</th>\n",
       "      <th>category</th>\n",
       "    </tr>\n",
       "  </thead>\n",
       "  <tbody>\n",
       "    <tr>\n",
       "      <th>0</th>\n",
       "      <td>QXeEoD0pB3E</td>\n",
       "      <td>#0 Python Programming Tutorial for Beginners |...</td>\n",
       "      <td>Telusko</td>\n",
       "      <td>UC59K-uG2A5ogwIrHw4bmlEg</td>\n",
       "      <td>https://www.youtube.com/channel/UC59K-uG2A5ogw...</td>\n",
       "      <td>https://www.youtube.com/watch?v=QXeEoD0pB3E</td>\n",
       "      <td>PLsyeobzWxl7poL9JTVyndKe62ieoN-MZ3</td>\n",
       "      <td>PLsyeobzWxl7poL9JTVyndKe62ieoN-MZ3</td>\n",
       "      <td>Python Tutorial for Beginners (Full Course)</td>\n",
       "      <td>QXeEoD0pB3E</td>\n",
       "      <td>...</td>\n",
       "      <td>Python Became the Best Programming Language of...</td>\n",
       "      <td>Telusko</td>\n",
       "      <td>UC59K-uG2A5ogwIrHw4bmlEg</td>\n",
       "      <td>https://www.youtube.com/channel/UC59K-uG2A5ogw...</td>\n",
       "      <td>4.952140</td>\n",
       "      <td>2018-08-16</td>\n",
       "      <td>2018-08-16</td>\n",
       "      <td>https://www.youtube.com/watch?v=QXeEoD0pB3E</td>\n",
       "      <td>66</td>\n",
       "      <td>tutorial,python</td>\n",
       "    </tr>\n",
       "    <tr>\n",
       "      <th>1</th>\n",
       "      <td>hEgO047GxaQ</td>\n",
       "      <td>#1 Python Tutorial for Beginners | Introductio...</td>\n",
       "      <td>Telusko</td>\n",
       "      <td>UC59K-uG2A5ogwIrHw4bmlEg</td>\n",
       "      <td>https://www.youtube.com/channel/UC59K-uG2A5ogw...</td>\n",
       "      <td>https://www.youtube.com/watch?v=hEgO047GxaQ</td>\n",
       "      <td>PLsyeobzWxl7poL9JTVyndKe62ieoN-MZ3</td>\n",
       "      <td>PLsyeobzWxl7poL9JTVyndKe62ieoN-MZ3</td>\n",
       "      <td>Python Tutorial for Beginners (Full Course)</td>\n",
       "      <td>hEgO047GxaQ</td>\n",
       "      <td>...</td>\n",
       "      <td>Python Tutorial to learn Python programming wi...</td>\n",
       "      <td>Telusko</td>\n",
       "      <td>UC59K-uG2A5ogwIrHw4bmlEg</td>\n",
       "      <td>https://www.youtube.com/channel/UC59K-uG2A5ogw...</td>\n",
       "      <td>4.935874</td>\n",
       "      <td>2018-06-30</td>\n",
       "      <td>2018-06-30</td>\n",
       "      <td>https://www.youtube.com/watch?v=hEgO047GxaQ</td>\n",
       "      <td>253</td>\n",
       "      <td>tutorial,data science,python</td>\n",
       "    </tr>\n",
       "    <tr>\n",
       "      <th>2</th>\n",
       "      <td>mbryl4MZJms</td>\n",
       "      <td>#2 Python Tutorial for Beginners | Python Inst...</td>\n",
       "      <td>Telusko</td>\n",
       "      <td>UC59K-uG2A5ogwIrHw4bmlEg</td>\n",
       "      <td>https://www.youtube.com/channel/UC59K-uG2A5ogw...</td>\n",
       "      <td>https://www.youtube.com/watch?v=mbryl4MZJms</td>\n",
       "      <td>PLsyeobzWxl7poL9JTVyndKe62ieoN-MZ3</td>\n",
       "      <td>PLsyeobzWxl7poL9JTVyndKe62ieoN-MZ3</td>\n",
       "      <td>Python Tutorial for Beginners (Full Course)</td>\n",
       "      <td>mbryl4MZJms</td>\n",
       "      <td>...</td>\n",
       "      <td>Download Python : https://goo.gl/hYmDPt\\nDownl...</td>\n",
       "      <td>Telusko</td>\n",
       "      <td>UC59K-uG2A5ogwIrHw4bmlEg</td>\n",
       "      <td>https://www.youtube.com/channel/UC59K-uG2A5ogw...</td>\n",
       "      <td>4.926794</td>\n",
       "      <td>2018-07-01</td>\n",
       "      <td>2018-07-01</td>\n",
       "      <td>https://www.youtube.com/watch?v=mbryl4MZJms</td>\n",
       "      <td>513</td>\n",
       "      <td>tutorial,python</td>\n",
       "    </tr>\n",
       "    <tr>\n",
       "      <th>3</th>\n",
       "      <td>DWgzHbglNIo</td>\n",
       "      <td>#3 Python Tutorial for Beginners | Getting Sta...</td>\n",
       "      <td>Telusko</td>\n",
       "      <td>UC59K-uG2A5ogwIrHw4bmlEg</td>\n",
       "      <td>https://www.youtube.com/channel/UC59K-uG2A5ogw...</td>\n",
       "      <td>https://www.youtube.com/watch?v=DWgzHbglNIo</td>\n",
       "      <td>PLsyeobzWxl7poL9JTVyndKe62ieoN-MZ3</td>\n",
       "      <td>PLsyeobzWxl7poL9JTVyndKe62ieoN-MZ3</td>\n",
       "      <td>Python Tutorial for Beginners (Full Course)</td>\n",
       "      <td>DWgzHbglNIo</td>\n",
       "      <td>...</td>\n",
       "      <td>Python Tutorial to learn Python programming wi...</td>\n",
       "      <td>Telusko</td>\n",
       "      <td>UC59K-uG2A5ogwIrHw4bmlEg</td>\n",
       "      <td>https://www.youtube.com/channel/UC59K-uG2A5ogw...</td>\n",
       "      <td>4.956956</td>\n",
       "      <td>2018-07-02</td>\n",
       "      <td>2018-07-02</td>\n",
       "      <td>https://www.youtube.com/watch?v=DWgzHbglNIo</td>\n",
       "      <td>889</td>\n",
       "      <td>tutorial,python</td>\n",
       "    </tr>\n",
       "    <tr>\n",
       "      <th>4</th>\n",
       "      <td>TqPzwenhMj0</td>\n",
       "      <td>#4 Python Tutorial for Beginners | Variables i...</td>\n",
       "      <td>Telusko</td>\n",
       "      <td>UC59K-uG2A5ogwIrHw4bmlEg</td>\n",
       "      <td>https://www.youtube.com/channel/UC59K-uG2A5ogw...</td>\n",
       "      <td>https://www.youtube.com/watch?v=TqPzwenhMj0</td>\n",
       "      <td>PLsyeobzWxl7poL9JTVyndKe62ieoN-MZ3</td>\n",
       "      <td>PLsyeobzWxl7poL9JTVyndKe62ieoN-MZ3</td>\n",
       "      <td>Python Tutorial for Beginners (Full Course)</td>\n",
       "      <td>TqPzwenhMj0</td>\n",
       "      <td>...</td>\n",
       "      <td>Python Tutorial to learn Python programming wi...</td>\n",
       "      <td>Telusko</td>\n",
       "      <td>UC59K-uG2A5ogwIrHw4bmlEg</td>\n",
       "      <td>https://www.youtube.com/channel/UC59K-uG2A5ogw...</td>\n",
       "      <td>4.951555</td>\n",
       "      <td>2018-07-02</td>\n",
       "      <td>2018-07-02</td>\n",
       "      <td>https://www.youtube.com/watch?v=TqPzwenhMj0</td>\n",
       "      <td>622</td>\n",
       "      <td>tutorial,python</td>\n",
       "    </tr>\n",
       "  </tbody>\n",
       "</table>\n",
       "<p>5 rows × 22 columns</p>\n",
       "</div>"
      ],
      "text/plain": [
       "          id_x                                            title_x  \\\n",
       "0  QXeEoD0pB3E  #0 Python Programming Tutorial for Beginners |...   \n",
       "1  hEgO047GxaQ  #1 Python Tutorial for Beginners | Introductio...   \n",
       "2  mbryl4MZJms  #2 Python Tutorial for Beginners | Python Inst...   \n",
       "3  DWgzHbglNIo  #3 Python Tutorial for Beginners | Getting Sta...   \n",
       "4  TqPzwenhMj0  #4 Python Tutorial for Beginners | Variables i...   \n",
       "\n",
       "  channel->name_x             channel->id_x  \\\n",
       "0         Telusko  UC59K-uG2A5ogwIrHw4bmlEg   \n",
       "1         Telusko  UC59K-uG2A5ogwIrHw4bmlEg   \n",
       "2         Telusko  UC59K-uG2A5ogwIrHw4bmlEg   \n",
       "3         Telusko  UC59K-uG2A5ogwIrHw4bmlEg   \n",
       "4         Telusko  UC59K-uG2A5ogwIrHw4bmlEg   \n",
       "\n",
       "                                     channel->link_x  \\\n",
       "0  https://www.youtube.com/channel/UC59K-uG2A5ogw...   \n",
       "1  https://www.youtube.com/channel/UC59K-uG2A5ogw...   \n",
       "2  https://www.youtube.com/channel/UC59K-uG2A5ogw...   \n",
       "3  https://www.youtube.com/channel/UC59K-uG2A5ogw...   \n",
       "4  https://www.youtube.com/channel/UC59K-uG2A5ogw...   \n",
       "\n",
       "                                        link_x  \\\n",
       "0  https://www.youtube.com/watch?v=QXeEoD0pB3E   \n",
       "1  https://www.youtube.com/watch?v=hEgO047GxaQ   \n",
       "2  https://www.youtube.com/watch?v=mbryl4MZJms   \n",
       "3  https://www.youtube.com/watch?v=DWgzHbglNIo   \n",
       "4  https://www.youtube.com/watch?v=TqPzwenhMj0   \n",
       "\n",
       "                          playlist_id                                id_y  \\\n",
       "0  PLsyeobzWxl7poL9JTVyndKe62ieoN-MZ3  PLsyeobzWxl7poL9JTVyndKe62ieoN-MZ3   \n",
       "1  PLsyeobzWxl7poL9JTVyndKe62ieoN-MZ3  PLsyeobzWxl7poL9JTVyndKe62ieoN-MZ3   \n",
       "2  PLsyeobzWxl7poL9JTVyndKe62ieoN-MZ3  PLsyeobzWxl7poL9JTVyndKe62ieoN-MZ3   \n",
       "3  PLsyeobzWxl7poL9JTVyndKe62ieoN-MZ3  PLsyeobzWxl7poL9JTVyndKe62ieoN-MZ3   \n",
       "4  PLsyeobzWxl7poL9JTVyndKe62ieoN-MZ3  PLsyeobzWxl7poL9JTVyndKe62ieoN-MZ3   \n",
       "\n",
       "                                       title_y           id  ...  \\\n",
       "0  Python Tutorial for Beginners (Full Course)  QXeEoD0pB3E  ...   \n",
       "1  Python Tutorial for Beginners (Full Course)  hEgO047GxaQ  ...   \n",
       "2  Python Tutorial for Beginners (Full Course)  mbryl4MZJms  ...   \n",
       "3  Python Tutorial for Beginners (Full Course)  DWgzHbglNIo  ...   \n",
       "4  Python Tutorial for Beginners (Full Course)  TqPzwenhMj0  ...   \n",
       "\n",
       "                                         description  channel->name_y  \\\n",
       "0  Python Became the Best Programming Language of...          Telusko   \n",
       "1  Python Tutorial to learn Python programming wi...          Telusko   \n",
       "2  Download Python : https://goo.gl/hYmDPt\\nDownl...          Telusko   \n",
       "3  Python Tutorial to learn Python programming wi...          Telusko   \n",
       "4  Python Tutorial to learn Python programming wi...          Telusko   \n",
       "\n",
       "              channel->id_y  \\\n",
       "0  UC59K-uG2A5ogwIrHw4bmlEg   \n",
       "1  UC59K-uG2A5ogwIrHw4bmlEg   \n",
       "2  UC59K-uG2A5ogwIrHw4bmlEg   \n",
       "3  UC59K-uG2A5ogwIrHw4bmlEg   \n",
       "4  UC59K-uG2A5ogwIrHw4bmlEg   \n",
       "\n",
       "                                     channel->link_y averageRating  \\\n",
       "0  https://www.youtube.com/channel/UC59K-uG2A5ogw...      4.952140   \n",
       "1  https://www.youtube.com/channel/UC59K-uG2A5ogw...      4.935874   \n",
       "2  https://www.youtube.com/channel/UC59K-uG2A5ogw...      4.926794   \n",
       "3  https://www.youtube.com/channel/UC59K-uG2A5ogw...      4.956956   \n",
       "4  https://www.youtube.com/channel/UC59K-uG2A5ogw...      4.951555   \n",
       "\n",
       "  publishDate  uploadDate                                       link_y  \\\n",
       "0  2018-08-16  2018-08-16  https://www.youtube.com/watch?v=QXeEoD0pB3E   \n",
       "1  2018-06-30  2018-06-30  https://www.youtube.com/watch?v=hEgO047GxaQ   \n",
       "2  2018-07-01  2018-07-01  https://www.youtube.com/watch?v=mbryl4MZJms   \n",
       "3  2018-07-02  2018-07-02  https://www.youtube.com/watch?v=DWgzHbglNIo   \n",
       "4  2018-07-02  2018-07-02  https://www.youtube.com/watch?v=TqPzwenhMj0   \n",
       "\n",
       "  duration_second                      category  \n",
       "0              66               tutorial,python  \n",
       "1             253  tutorial,data science,python  \n",
       "2             513               tutorial,python  \n",
       "3             889               tutorial,python  \n",
       "4             622               tutorial,python  \n",
       "\n",
       "[5 rows x 22 columns]"
      ]
     },
     "execution_count": 30,
     "metadata": {},
     "output_type": "execute_result"
    }
   ],
   "source": [
    "combined_data.head()"
   ]
  },
  {
   "cell_type": "code",
   "execution_count": 31,
   "metadata": {
    "scrolled": true
   },
   "outputs": [
    {
     "data": {
      "text/html": [
       "<div>\n",
       "<style scoped>\n",
       "    .dataframe tbody tr th:only-of-type {\n",
       "        vertical-align: middle;\n",
       "    }\n",
       "\n",
       "    .dataframe tbody tr th {\n",
       "        vertical-align: top;\n",
       "    }\n",
       "\n",
       "    .dataframe thead th {\n",
       "        text-align: right;\n",
       "    }\n",
       "</style>\n",
       "<table border=\"1\" class=\"dataframe\">\n",
       "  <thead>\n",
       "    <tr style=\"text-align: right;\">\n",
       "      <th></th>\n",
       "      <th>channel-&gt;link_y</th>\n",
       "      <th>channel-&gt;link_x</th>\n",
       "    </tr>\n",
       "  </thead>\n",
       "  <tbody>\n",
       "    <tr>\n",
       "      <th>0</th>\n",
       "      <td>https://www.youtube.com/channel/UC59K-uG2A5ogw...</td>\n",
       "      <td>https://www.youtube.com/channel/UC59K-uG2A5ogw...</td>\n",
       "    </tr>\n",
       "    <tr>\n",
       "      <th>100</th>\n",
       "      <td>https://www.youtube.com/channel/UC59K-uG2A5ogw...</td>\n",
       "      <td>NaN</td>\n",
       "    </tr>\n",
       "    <tr>\n",
       "      <th>110</th>\n",
       "      <td>https://www.youtube.com/channel/UCrkQMtWNtuq-1...</td>\n",
       "      <td>https://www.youtube.com/channel/UCrkQMtWNtuq-1...</td>\n",
       "    </tr>\n",
       "    <tr>\n",
       "      <th>149</th>\n",
       "      <td>NaN</td>\n",
       "      <td>https://www.youtube.com/channel/UCrkQMtWNtuq-1...</td>\n",
       "    </tr>\n",
       "    <tr>\n",
       "      <th>210</th>\n",
       "      <td>https://www.youtube.com/channel/UCrkQMtWNtuq-1...</td>\n",
       "      <td>NaN</td>\n",
       "    </tr>\n",
       "  </tbody>\n",
       "</table>\n",
       "</div>"
      ],
      "text/plain": [
       "                                       channel->link_y  \\\n",
       "0    https://www.youtube.com/channel/UC59K-uG2A5ogw...   \n",
       "100  https://www.youtube.com/channel/UC59K-uG2A5ogw...   \n",
       "110  https://www.youtube.com/channel/UCrkQMtWNtuq-1...   \n",
       "149                                                NaN   \n",
       "210  https://www.youtube.com/channel/UCrkQMtWNtuq-1...   \n",
       "\n",
       "                                       channel->link_x  \n",
       "0    https://www.youtube.com/channel/UC59K-uG2A5ogw...  \n",
       "100                                                NaN  \n",
       "110  https://www.youtube.com/channel/UCrkQMtWNtuq-1...  \n",
       "149  https://www.youtube.com/channel/UCrkQMtWNtuq-1...  \n",
       "210                                                NaN  "
      ]
     },
     "execution_count": 31,
     "metadata": {},
     "output_type": "execute_result"
    }
   ],
   "source": [
    "combined_data[['channel->link_y','channel->link_x']].drop_duplicates().head()"
   ]
  },
  {
   "cell_type": "code",
   "execution_count": 32,
   "metadata": {},
   "outputs": [],
   "source": [
    "# Some record have Null value (it may be due to open source api) and As these column have same data so merging them\n",
    "combined_data[\"channelName\"] = combined_data['channel->name_y'].combine_first(combined_data['channel->name_x']).copy()\n",
    "combined_data[\"channelId\"] = combined_data['channel->id_y'].combine_first(combined_data['channel->id_x']).copy()\n",
    "combined_data[\"videoId\"] = combined_data['id'].combine_first(combined_data['id_x']).copy()\n",
    "combined_data[\"videoTitle\"] = combined_data['title_x'].combine_first(combined_data['title']).copy()"
   ]
  },
  {
   "cell_type": "code",
   "execution_count": 33,
   "metadata": {},
   "outputs": [],
   "source": [
    "# column rename\n",
    "combined_data.rename(columns={\"title_y\":\"playlistTitle\",'viewCount->text':'viewCount',\n",
    "                              'duration_second':'durationSeconds','playlist_id':'playlistId'},inplace=True)"
   ]
  },
  {
   "cell_type": "code",
   "execution_count": 34,
   "metadata": {},
   "outputs": [],
   "source": [
    "# Dropping same columns and description\n",
    "drop_col = ['description', 'channel->name_x', 'channel->name_y', 'channel->id_x', 'channel->id_y',\n",
    "            'channel->link_y', 'channel->link_x', 'id_y', 'id', 'id_x', 'title', 'title_x', 'link_y', 'link_x', 'id_y']\n",
    "combined_data.drop(drop_col,axis=1,inplace=True)"
   ]
  },
  {
   "cell_type": "code",
   "execution_count": 35,
   "metadata": {},
   "outputs": [],
   "source": [
    "filename = \"data/\"+ query[\"keyword\"] +\"/combined_cleaned_processed_data.csv\"\n",
    "combined_data.to_csv(filename, index=False)"
   ]
  },
  {
   "cell_type": "code",
   "execution_count": 36,
   "metadata": {},
   "outputs": [],
   "source": [
    "# combined_data = pd.read_csv(filename,index_col='Unnamed: 0')\n",
    "# combined_data.head(2)"
   ]
  },
  {
   "cell_type": "markdown",
   "metadata": {},
   "source": [
    "## Metrics Required for Analysis"
   ]
  },
  {
   "cell_type": "code",
   "execution_count": 37,
   "metadata": {},
   "outputs": [],
   "source": [
    "def video_analysis(dataset, tag_category):\n",
    "    '''This function will calcualte metrics for all the videoids\n",
    "            dataset: dataframe that contain videoid details\n",
    "            tag_category: tags categories list\n",
    "        Output: Analysed dataframe\n",
    "        '''\n",
    "    \n",
    "    analysis_list = []\n",
    "    \n",
    "    for cat in tag_category:\n",
    "        dataset_category_level = dataset[dataset[\"category\"].str.contains(cat)]\n",
    "        \n",
    "        if not  dataset_category_level.empty:\n",
    "            df = pd.DataFrame(dataset_category_level.mean()).T\n",
    "            df.rename(columns={'viewCount':'Average Views','averageRating':'Average Rating',\n",
    "                                                 'durationSeconds':'Average Video Duration'},inplace=True)\n",
    "\n",
    "            df_minviews = dataset_category_level[[\"videoTitle\",\"viewCount\"]].sort_values(\"viewCount\",ascending=True).reset_index().head(1)\n",
    "            df_minviews.rename(columns={'videoTitle':'Least Viewed Video Title','viewCount':'Least Viewed Count',\n",
    "                                   'videoId':'Least Viewed Video Id'},inplace=True)\n",
    "\n",
    "            df_maxviews = dataset_category_level[[\"videoTitle\",\"viewCount\"]].sort_values(\"viewCount\",ascending=False).reset_index().head(1)\n",
    "            df_maxviews.rename(columns={'videoTitle':'Most Viewed Video Title','viewCount':'Most Viewed Count',\n",
    "                                   'videoId':'Most Viewed Video Id'},inplace=True)\n",
    "\n",
    "            df_minratings = dataset_category_level[[\"videoTitle\",\"averageRating\"]].sort_values(\"averageRating\",ascending=True).reset_index().head(1)\n",
    "            df_minratings.rename(columns={'videoTitle':'Least Rated Video Title','averageRating':'Minimum Rating',\n",
    "                                   'videoId':'Least Rated Video Id'},inplace=True)\n",
    "\n",
    "            df_maxratings = dataset_category_level[[\"videoTitle\",\"averageRating\"]].sort_values(\"averageRating\",ascending=False).reset_index().head(1)\n",
    "            df_maxratings.rename(columns={'videoTitle':'Most Rated Video Title','averageRating':'Maximum Rating',\n",
    "                                   'videoId':'Most Rated Video Id'},inplace=True)\n",
    "\n",
    "            df_minduration = dataset_category_level[[\"videoTitle\",\"durationSeconds\"]].sort_values(\"durationSeconds\",ascending=True).reset_index().head(1)\n",
    "            df_minduration.rename(columns={'videoTitle':'Shortest Video Title','durationSeconds':'Shortest Duration',\n",
    "                                   'videoId':'Shortest Video Id'},inplace=True)\n",
    "\n",
    "            df_maxduration = dataset_category_level[[\"videoTitle\",\"durationSeconds\"]].sort_values(\"durationSeconds\",ascending=False).reset_index().head(1)\n",
    "            df_maxduration.rename(columns={'videoTitle':'Longest Video Title','durationSeconds':'Longest Duration',\n",
    "                                   'videoId':'Longest Video Id'},inplace=True)\n",
    "\n",
    "            df.loc[0,\"Total Views\"] = pd.DataFrame(dataset_category_level[[\"viewCount\"]].sum()).iloc[0,0]\n",
    "            df.loc[0,\"Total Videos\"] = dataset_category_level.shape[0]\n",
    "\n",
    "            df = pd.concat([df, df_minviews, df_maxviews, df_minratings, df_maxratings, df_minduration, df_maxduration],axis=1)\n",
    "            df.rename(index={0:cat},inplace=True)\n",
    "\n",
    "            analysis_list.append(df)\n",
    "    df_analysis = pd.concat(analysis_list)\n",
    "    \n",
    "    ## Formatting ratings, view count and duration\n",
    "\n",
    "    df_analysis[['Average Views', 'Total Views', 'Least Viewed Count', 'Most Viewed Count']] = df_analysis[['Average Views', 'Total Views', 'Least Viewed Count', 'Most Viewed Count']].applymap(lambda x: str(int(x)) if x<1000 else ( str(round(x/1000,1))+ \" K\" if x>=1000 and x < 1000000 else str(round(x/1000000,1)) + \" M\" ))\n",
    "    df_analysis[['Average Video Duration', 'Shortest Duration', 'Longest Duration']] = df_analysis[['Average Video Duration', 'Shortest Duration', 'Longest Duration']].round(0).applymap(lambda x: str(datetime.timedelta(seconds = x)))\n",
    "    df_analysis[[\"Average Rating\", \"Minimum Rating\", \"Maximum Rating\"]] = df_analysis[[\"Average Rating\", \"Minimum Rating\", \"Maximum Rating\"]].round(2)\n",
    "    \n",
    "    return df_analysis"
   ]
  },
  {
   "cell_type": "markdown",
   "metadata": {},
   "source": [
    "## Video - Tags Analysis"
   ]
  },
  {
   "cell_type": "markdown",
   "metadata": {},
   "source": [
    "We are analysing video data metrics on a tags category"
   ]
  },
  {
   "cell_type": "code",
   "execution_count": 38,
   "metadata": {},
   "outputs": [
    {
     "data": {
      "text/plain": [
       "(494, 10)"
      ]
     },
     "execution_count": 38,
     "metadata": {},
     "output_type": "execute_result"
    }
   ],
   "source": [
    "video_dataset = combined_data[[col for col in combined_data.columns if col not in [\"playlistId\",\"playlistTitle\"]]].copy()\n",
    "video_dataset.shape"
   ]
  },
  {
   "cell_type": "code",
   "execution_count": 39,
   "metadata": {},
   "outputs": [
    {
     "data": {
      "text/plain": [
       "W_g0OiLYwXI    1\n",
       "2IsF7DEtVjg    1\n",
       "o4RsQSrlKOM    1\n",
       "44PvX0Yv368    1\n",
       "RSl87lqOXDE    1\n",
       "              ..\n",
       "ms13AMj3yVk    1\n",
       "jTYiNjvnHZY    1\n",
       "O3RoHm1-A1I    1\n",
       "QaKFY_m9nAQ    1\n",
       "cmSXHAS-QKY    1\n",
       "Name: videoId, Length: 494, dtype: int64"
      ]
     },
     "execution_count": 39,
     "metadata": {},
     "output_type": "execute_result"
    }
   ],
   "source": [
    "video_dataset[\"videoId\"].value_counts()"
   ]
  },
  {
   "cell_type": "code",
   "execution_count": 40,
   "metadata": {},
   "outputs": [],
   "source": [
    "video_dataset.drop_duplicates(inplace=True)"
   ]
  },
  {
   "cell_type": "code",
   "execution_count": 41,
   "metadata": {},
   "outputs": [
    {
     "data": {
      "text/plain": [
       "True"
      ]
     },
     "execution_count": 41,
     "metadata": {},
     "output_type": "execute_result"
    }
   ],
   "source": [
    "video_dataset.shape[0] == video_dataset[\"videoId\"].nunique()"
   ]
  },
  {
   "cell_type": "code",
   "execution_count": 42,
   "metadata": {},
   "outputs": [],
   "source": [
    "video_dataset.set_index(\"videoId\",inplace=True)"
   ]
  },
  {
   "cell_type": "code",
   "execution_count": 43,
   "metadata": {},
   "outputs": [
    {
     "data": {
      "text/html": [
       "<div>\n",
       "<style scoped>\n",
       "    .dataframe tbody tr th:only-of-type {\n",
       "        vertical-align: middle;\n",
       "    }\n",
       "\n",
       "    .dataframe tbody tr th {\n",
       "        vertical-align: top;\n",
       "    }\n",
       "\n",
       "    .dataframe thead th {\n",
       "        text-align: right;\n",
       "    }\n",
       "</style>\n",
       "<table border=\"1\" class=\"dataframe\">\n",
       "  <thead>\n",
       "    <tr style=\"text-align: right;\">\n",
       "      <th></th>\n",
       "      <th>viewCount</th>\n",
       "      <th>averageRating</th>\n",
       "      <th>publishDate</th>\n",
       "      <th>uploadDate</th>\n",
       "      <th>durationSeconds</th>\n",
       "      <th>category</th>\n",
       "      <th>channelName</th>\n",
       "      <th>channelId</th>\n",
       "      <th>videoTitle</th>\n",
       "    </tr>\n",
       "    <tr>\n",
       "      <th>videoId</th>\n",
       "      <th></th>\n",
       "      <th></th>\n",
       "      <th></th>\n",
       "      <th></th>\n",
       "      <th></th>\n",
       "      <th></th>\n",
       "      <th></th>\n",
       "      <th></th>\n",
       "      <th></th>\n",
       "    </tr>\n",
       "  </thead>\n",
       "  <tbody>\n",
       "    <tr>\n",
       "      <th>QXeEoD0pB3E</th>\n",
       "      <td>3801999.0</td>\n",
       "      <td>4.952140</td>\n",
       "      <td>2018-08-16</td>\n",
       "      <td>2018-08-16</td>\n",
       "      <td>66</td>\n",
       "      <td>tutorial,python</td>\n",
       "      <td>Telusko</td>\n",
       "      <td>UC59K-uG2A5ogwIrHw4bmlEg</td>\n",
       "      <td>#0 Python Programming Tutorial for Beginners |...</td>\n",
       "    </tr>\n",
       "    <tr>\n",
       "      <th>hEgO047GxaQ</th>\n",
       "      <td>2659163.0</td>\n",
       "      <td>4.935874</td>\n",
       "      <td>2018-06-30</td>\n",
       "      <td>2018-06-30</td>\n",
       "      <td>253</td>\n",
       "      <td>tutorial,data science,python</td>\n",
       "      <td>Telusko</td>\n",
       "      <td>UC59K-uG2A5ogwIrHw4bmlEg</td>\n",
       "      <td>#1 Python Tutorial for Beginners | Introductio...</td>\n",
       "    </tr>\n",
       "  </tbody>\n",
       "</table>\n",
       "</div>"
      ],
      "text/plain": [
       "             viewCount  averageRating publishDate  uploadDate  \\\n",
       "videoId                                                         \n",
       "QXeEoD0pB3E  3801999.0       4.952140  2018-08-16  2018-08-16   \n",
       "hEgO047GxaQ  2659163.0       4.935874  2018-06-30  2018-06-30   \n",
       "\n",
       "             durationSeconds                      category channelName  \\\n",
       "videoId                                                                  \n",
       "QXeEoD0pB3E               66               tutorial,python     Telusko   \n",
       "hEgO047GxaQ              253  tutorial,data science,python     Telusko   \n",
       "\n",
       "                            channelId  \\\n",
       "videoId                                 \n",
       "QXeEoD0pB3E  UC59K-uG2A5ogwIrHw4bmlEg   \n",
       "hEgO047GxaQ  UC59K-uG2A5ogwIrHw4bmlEg   \n",
       "\n",
       "                                                    videoTitle  \n",
       "videoId                                                         \n",
       "QXeEoD0pB3E  #0 Python Programming Tutorial for Beginners |...  \n",
       "hEgO047GxaQ  #1 Python Tutorial for Beginners | Introductio...  "
      ]
     },
     "execution_count": 43,
     "metadata": {},
     "output_type": "execute_result"
    }
   ],
   "source": [
    "video_dataset.head(2)"
   ]
  },
  {
   "cell_type": "code",
   "execution_count": 44,
   "metadata": {},
   "outputs": [],
   "source": [
    "video_dataset.fillna(0,inplace=True)"
   ]
  },
  {
   "cell_type": "code",
   "execution_count": 45,
   "metadata": {},
   "outputs": [
    {
     "data": {
      "text/plain": [
       "((494, 9), (494, 9))"
      ]
     },
     "execution_count": 45,
     "metadata": {},
     "output_type": "execute_result"
    }
   ],
   "source": [
    "video_dataset.shape,video_dataset.dropna().shape"
   ]
  },
  {
   "cell_type": "code",
   "execution_count": 46,
   "metadata": {},
   "outputs": [
    {
     "data": {
      "text/html": [
       "<div>\n",
       "<style scoped>\n",
       "    .dataframe tbody tr th:only-of-type {\n",
       "        vertical-align: middle;\n",
       "    }\n",
       "\n",
       "    .dataframe tbody tr th {\n",
       "        vertical-align: top;\n",
       "    }\n",
       "\n",
       "    .dataframe thead th {\n",
       "        text-align: right;\n",
       "    }\n",
       "</style>\n",
       "<table border=\"1\" class=\"dataframe\">\n",
       "  <thead>\n",
       "    <tr style=\"text-align: right;\">\n",
       "      <th></th>\n",
       "      <th>Average Views</th>\n",
       "      <th>Average Rating</th>\n",
       "      <th>Average Video Duration</th>\n",
       "      <th>Total Views</th>\n",
       "      <th>Total Videos</th>\n",
       "      <th>Least Viewed Video Id</th>\n",
       "      <th>Least Viewed Video Title</th>\n",
       "      <th>Least Viewed Count</th>\n",
       "      <th>Most Viewed Video Id</th>\n",
       "      <th>Most Viewed Video Title</th>\n",
       "      <th>...</th>\n",
       "      <th>Minimum Rating</th>\n",
       "      <th>Most Rated Video Id</th>\n",
       "      <th>Most Rated Video Title</th>\n",
       "      <th>Maximum Rating</th>\n",
       "      <th>Shortest Video Id</th>\n",
       "      <th>Shortest Video Title</th>\n",
       "      <th>Shortest Duration</th>\n",
       "      <th>Longest Video Id</th>\n",
       "      <th>Longest Video Title</th>\n",
       "      <th>Longest Duration</th>\n",
       "    </tr>\n",
       "  </thead>\n",
       "  <tbody>\n",
       "    <tr>\n",
       "      <th>tutorial</th>\n",
       "      <td>263.7 K</td>\n",
       "      <td>4.95</td>\n",
       "      <td>0:14:08</td>\n",
       "      <td>107.1 M</td>\n",
       "      <td>406.0</td>\n",
       "      <td>8o6HmJxi9pQ</td>\n",
       "      <td>Read CSV files with DictReader : Python tutori...</td>\n",
       "      <td>18.1 K</td>\n",
       "      <td>QXeEoD0pB3E</td>\n",
       "      <td>#0 Python Programming Tutorial for Beginners |...</td>\n",
       "      <td>...</td>\n",
       "      <td>4.71</td>\n",
       "      <td>uVNfQDohYNI</td>\n",
       "      <td>Python Flask Tutorial: Full-Featured Web App P...</td>\n",
       "      <td>5.00</td>\n",
       "      <td>XqrICVWDL60</td>\n",
       "      <td>Chapter 2 : Exercise 2 : Python tutorial 28</td>\n",
       "      <td>0:00:27</td>\n",
       "      <td>wRIUnHO_6KY</td>\n",
       "      <td>Python Project Create Real Software</td>\n",
       "      <td>3:32:42</td>\n",
       "    </tr>\n",
       "    <tr>\n",
       "      <th>hindi</th>\n",
       "      <td>98.2 K</td>\n",
       "      <td>4.95</td>\n",
       "      <td>0:06:20</td>\n",
       "      <td>10.6 M</td>\n",
       "      <td>108.0</td>\n",
       "      <td>H4YjxLe-eyU</td>\n",
       "      <td>Exercise 2 Better solution : Python tutorial 221</td>\n",
       "      <td>15.0 K</td>\n",
       "      <td>RAwntanK4wQ</td>\n",
       "      <td>Complete Python 3 Course (Introduction)</td>\n",
       "      <td>...</td>\n",
       "      <td>4.71</td>\n",
       "      <td>Kr_1Fr5DL_0</td>\n",
       "      <td>Exercise 1 solution  : Python tutorial 144</td>\n",
       "      <td>4.99</td>\n",
       "      <td>XqrICVWDL60</td>\n",
       "      <td>Chapter 2 : Exercise 2 : Python tutorial 28</td>\n",
       "      <td>0:00:27</td>\n",
       "      <td>7MQWCtTr0zA</td>\n",
       "      <td>Create GUI App with Python , Tkinter [1]</td>\n",
       "      <td>1:21:26</td>\n",
       "    </tr>\n",
       "  </tbody>\n",
       "</table>\n",
       "<p>2 rows × 23 columns</p>\n",
       "</div>"
      ],
      "text/plain": [
       "         Average Views  Average Rating Average Video Duration Total Views  \\\n",
       "tutorial       263.7 K            4.95                0:14:08     107.1 M   \n",
       "hindi           98.2 K            4.95                0:06:20      10.6 M   \n",
       "\n",
       "          Total Videos Least Viewed Video Id  \\\n",
       "tutorial         406.0           8o6HmJxi9pQ   \n",
       "hindi            108.0           H4YjxLe-eyU   \n",
       "\n",
       "                                   Least Viewed Video Title  \\\n",
       "tutorial  Read CSV files with DictReader : Python tutori...   \n",
       "hindi      Exercise 2 Better solution : Python tutorial 221   \n",
       "\n",
       "         Least Viewed Count Most Viewed Video Id  \\\n",
       "tutorial             18.1 K          QXeEoD0pB3E   \n",
       "hindi                15.0 K          RAwntanK4wQ   \n",
       "\n",
       "                                    Most Viewed Video Title  ...  \\\n",
       "tutorial  #0 Python Programming Tutorial for Beginners |...  ...   \n",
       "hindi               Complete Python 3 Course (Introduction)  ...   \n",
       "\n",
       "         Minimum Rating Most Rated Video Id  \\\n",
       "tutorial           4.71         uVNfQDohYNI   \n",
       "hindi              4.71         Kr_1Fr5DL_0   \n",
       "\n",
       "                                     Most Rated Video Title  Maximum Rating  \\\n",
       "tutorial  Python Flask Tutorial: Full-Featured Web App P...            5.00   \n",
       "hindi            Exercise 1 solution  : Python tutorial 144            4.99   \n",
       "\n",
       "         Shortest Video Id                         Shortest Video Title  \\\n",
       "tutorial       XqrICVWDL60  Chapter 2 : Exercise 2 : Python tutorial 28   \n",
       "hindi          XqrICVWDL60  Chapter 2 : Exercise 2 : Python tutorial 28   \n",
       "\n",
       "          Shortest Duration Longest Video Id  \\\n",
       "tutorial            0:00:27      wRIUnHO_6KY   \n",
       "hindi               0:00:27      7MQWCtTr0zA   \n",
       "\n",
       "                               Longest Video Title Longest Duration  \n",
       "tutorial       Python Project Create Real Software          3:32:42  \n",
       "hindi     Create GUI App with Python , Tkinter [1]          1:21:26  \n",
       "\n",
       "[2 rows x 23 columns]"
      ]
     },
     "execution_count": 46,
     "metadata": {},
     "output_type": "execute_result"
    }
   ],
   "source": [
    "video_analysis_result = video_analysis(video_dataset, tag_category)\n",
    "video_analysis_result.head(2)"
   ]
  },
  {
   "cell_type": "code",
   "execution_count": 47,
   "metadata": {},
   "outputs": [],
   "source": [
    "# saving analysis\n",
    "filename = \"analysis/\"+ query[\"keyword\"] + \"/video.csv\"\n",
    "video_analysis_result.to_csv(filename)\n",
    "del video_analysis_result"
   ]
  },
  {
   "cell_type": "markdown",
   "metadata": {},
   "source": [
    "## Playlists - Tags Analysis"
   ]
  },
  {
   "cell_type": "code",
   "execution_count": 48,
   "metadata": {},
   "outputs": [
    {
     "data": {
      "text/plain": [
       "(494, 8)"
      ]
     },
     "execution_count": 48,
     "metadata": {},
     "output_type": "execute_result"
    }
   ],
   "source": [
    "playlist_dataset = combined_data[['playlistId', 'playlistTitle', 'viewCount', 'averageRating',\n",
    "                                   'publishDate', 'uploadDate', 'durationSeconds', 'category']].copy()\n",
    "playlist_dataset.shape"
   ]
  },
  {
   "cell_type": "code",
   "execution_count": 49,
   "metadata": {},
   "outputs": [],
   "source": [
    "def tag_analysis(dataset):\n",
    "    '''This function will calcualte metrics for all the videoids\n",
    "        dataset: dataframe that contain videoid details\n",
    "        tag_category: tags categories list\n",
    "        Output: Analysed dataframe\n",
    "        '''        \n",
    "    df_mean = pd.DataFrame(dataset[['Total Videos', 'Average Video Rating', 'Total Views', 'Total Duration']].mean()).T\n",
    "    df_mean.columns = df_mean.columns.str.replace(\"Total\",\"Average\")\n",
    "\n",
    "    df_sum = pd.DataFrame(dataset[['Total Videos', 'Total Views']].sum()).T\n",
    "    \n",
    "    df_min = pd.DataFrame(dataset[[ 'Oldest Video Publish Date', 'Oldest Video Uploaded Date']].min()).T\n",
    "    \n",
    "    df_max = pd.DataFrame(dataset[[ 'Recent Video Publish Date', 'Recent Video Uploaded Date']].max()).T\n",
    "    \n",
    "    df = pd.concat([df_mean, df_sum, df_min, df_max],axis=1)\n",
    "\n",
    "    ## Formatting ratings, view count and duration\n",
    "    df[['Average Videos', 'Average Views', 'Total Videos', 'Total Views']] = df[['Average Videos', 'Average Views', 'Total Videos', 'Total Views']].applymap(lambda x: str(int(x)) if x<1000 else ( str(round(x/1000,1))+ \" K\" if x>=1000 and x < 1000000 else str(round(x/1000000,1)) + \" M\" ))\n",
    "    df[['Average Duration']] = df[['Average Duration']].round(0).applymap(lambda x: str(datetime.timedelta(seconds = x)))\n",
    "    df[['Average Video Rating']] = df[['Average Video Rating']].round(2)\n",
    "\n",
    "    return df"
   ]
  },
  {
   "cell_type": "code",
   "execution_count": 50,
   "metadata": {},
   "outputs": [],
   "source": [
    "def playlist_channel_analysis(dataset, tag_category, category):\n",
    "    \n",
    "    analysis_list = []\n",
    "    if category == \"playlist\":\n",
    "        category_id = \"playlistId\"\n",
    "        category_name = \"playlistTitle\"\n",
    "    else:\n",
    "        category_id = \"channelId\"\n",
    "        category_name = \"channelName\"\n",
    "        \n",
    "    for cat in tag_category:\n",
    "        playlist_data_category_level = dataset[dataset[\"category\"].str.contains(cat)]\n",
    "        \n",
    "        if not playlist_data_category_level.empty:\n",
    "            df_video_count = playlist_data_category_level[[category_id,category_name]].groupby(category_name).count().sort_values(by=category_id,ascending=False)\n",
    "            df_video_count.rename(columns={category_id: \"Total Videos\"},inplace=True)\n",
    "\n",
    "            df_mean = playlist_data_category_level[[category_name, 'viewCount', 'averageRating','durationSeconds']].groupby(category_name).mean()\n",
    "            df_mean.rename(columns={'viewCount':'Average Video Views','averageRating':'Average Video Rating',\n",
    "                                                         'durationSeconds':'Average Video Duration'},inplace=True)\n",
    "\n",
    "            df_total = playlist_data_category_level[[category_name, 'viewCount', 'durationSeconds']].groupby(category_name).sum()\n",
    "            df_total.rename(columns={'viewCount':'Total Views', 'durationSeconds':'Total Duration'},inplace=True)\n",
    "\n",
    "            df_min = playlist_data_category_level[[category_name, 'viewCount', 'averageRating',\n",
    "                   'publishDate', 'uploadDate', 'durationSeconds']].groupby(category_name).min()\n",
    "            df_min.rename(columns={'viewCount':'Least Video View Count','averageRating':'Least Rated Video',\n",
    "                                   'durationSeconds':'Shortest Video Duration','publishDate':'Oldest Video Publish Date',\n",
    "                                   'uploadDate':'Oldest Video Uploaded Date'},inplace=True)\n",
    "\n",
    "            df_max = playlist_data_category_level[[category_name, 'viewCount', 'averageRating',\n",
    "                   'publishDate', 'uploadDate', 'durationSeconds']].groupby(category_name).max()\n",
    "            df_max.rename(columns={'viewCount':'Most Video View Count','averageRating':'Most Rated Video',\n",
    "                                   'durationSeconds':'Longest Video Duration','publishDate':'Recent Video Publish Date',\n",
    "                                   'uploadDate':'Recent Video Uploaded Date'},inplace=True)\n",
    "\n",
    "            df_analysis = pd.concat([df_video_count,df_mean,df_total,df_min,df_max],axis=1)\n",
    "            df_analysis.index.name = cat\n",
    "\n",
    "            #making a copy for tag analysis\n",
    "            df_tag_analysis = df_analysis.copy()\n",
    "            df_tag_analysis = tag_analysis(df_tag_analysis)\n",
    "            df_tag_analysis.rename(index={0:cat},inplace=True)\n",
    "            analysis_list.append(df_tag_analysis)\n",
    "            ## Formatting ratings, view count and duration\n",
    "\n",
    "            df_analysis[['Total Videos', 'Average Video Views', 'Total Views', 'Least Video View Count', 'Most Video View Count']] = df_analysis[['Total Videos', 'Average Video Views', 'Total Views', 'Least Video View Count', 'Most Video View Count']].applymap(lambda x: str(int(x)) if x<1000 else ( str(round(x/1000,1))+ \" K\" if x>=1000 and x < 1000000 else str(round(x/1000000,1)) + \" M\" ))\n",
    "            df_analysis[['Average Video Duration', 'Total Duration', 'Shortest Video Duration', 'Longest Video Duration']] = df_analysis[['Average Video Duration', 'Total Duration', 'Shortest Video Duration', 'Longest Video Duration']].round(0).applymap(lambda x: str(datetime.timedelta(seconds = x)))\n",
    "            df_analysis[['Average Video Rating', 'Least Rated Video', 'Most Rated Video']] = df_analysis[['Average Video Rating', 'Least Rated Video', 'Most Rated Video']].round(1)\n",
    "\n",
    "            filename = \"analysis/\"+ query[\"keyword\"] + \"/taglevel/\" + category + \"/\" + cat + \".csv\"\n",
    "            df_analysis.to_csv(filename)\n",
    "                    \n",
    "    return pd.concat(analysis_list)"
   ]
  },
  {
   "cell_type": "code",
   "execution_count": 51,
   "metadata": {
    "scrolled": true
   },
   "outputs": [
    {
     "data": {
      "text/html": [
       "<div>\n",
       "<style scoped>\n",
       "    .dataframe tbody tr th:only-of-type {\n",
       "        vertical-align: middle;\n",
       "    }\n",
       "\n",
       "    .dataframe tbody tr th {\n",
       "        vertical-align: top;\n",
       "    }\n",
       "\n",
       "    .dataframe thead th {\n",
       "        text-align: right;\n",
       "    }\n",
       "</style>\n",
       "<table border=\"1\" class=\"dataframe\">\n",
       "  <thead>\n",
       "    <tr style=\"text-align: right;\">\n",
       "      <th></th>\n",
       "      <th>Average Videos</th>\n",
       "      <th>Average Video Rating</th>\n",
       "      <th>Average Views</th>\n",
       "      <th>Average Duration</th>\n",
       "      <th>Total Videos</th>\n",
       "      <th>Total Views</th>\n",
       "      <th>Oldest Video Publish Date</th>\n",
       "      <th>Oldest Video Uploaded Date</th>\n",
       "      <th>Recent Video Publish Date</th>\n",
       "      <th>Recent Video Uploaded Date</th>\n",
       "    </tr>\n",
       "  </thead>\n",
       "  <tbody>\n",
       "    <tr>\n",
       "      <th>tutorial</th>\n",
       "      <td>135</td>\n",
       "      <td>4.94</td>\n",
       "      <td>35.7 M</td>\n",
       "      <td>1 day, 7:53:08</td>\n",
       "      <td>406</td>\n",
       "      <td>107.1 M</td>\n",
       "      <td>2015-03-22</td>\n",
       "      <td>2015-03-22</td>\n",
       "      <td>2020-09-10</td>\n",
       "      <td>2020-09-10</td>\n",
       "    </tr>\n",
       "    <tr>\n",
       "      <th>hindi</th>\n",
       "      <td>108</td>\n",
       "      <td>4.95</td>\n",
       "      <td>10.6 M</td>\n",
       "      <td>11:23:41</td>\n",
       "      <td>108</td>\n",
       "      <td>10.6 M</td>\n",
       "      <td>2018-06-13</td>\n",
       "      <td>2018-06-13</td>\n",
       "      <td>2019-04-05</td>\n",
       "      <td>2019-04-05</td>\n",
       "    </tr>\n",
       "    <tr>\n",
       "      <th>live</th>\n",
       "      <td>1</td>\n",
       "      <td>4.96</td>\n",
       "      <td>165.3 K</td>\n",
       "      <td>0:20:34</td>\n",
       "      <td>1</td>\n",
       "      <td>165.3 K</td>\n",
       "      <td>2019-06-18</td>\n",
       "      <td>2019-06-18</td>\n",
       "      <td>2019-06-18</td>\n",
       "      <td>2019-06-18</td>\n",
       "    </tr>\n",
       "    <tr>\n",
       "      <th>regular</th>\n",
       "      <td>1</td>\n",
       "      <td>4.98</td>\n",
       "      <td>578.3 K</td>\n",
       "      <td>0:53:18</td>\n",
       "      <td>1</td>\n",
       "      <td>578.3 K</td>\n",
       "      <td>2017-10-24</td>\n",
       "      <td>2017-10-24</td>\n",
       "      <td>2017-10-24</td>\n",
       "      <td>2017-10-24</td>\n",
       "    </tr>\n",
       "    <tr>\n",
       "      <th>api</th>\n",
       "      <td>12</td>\n",
       "      <td>4.97</td>\n",
       "      <td>2.4 M</td>\n",
       "      <td>6:22:12</td>\n",
       "      <td>12</td>\n",
       "      <td>2.4 M</td>\n",
       "      <td>2017-11-08</td>\n",
       "      <td>2017-11-08</td>\n",
       "      <td>2020-09-10</td>\n",
       "      <td>2020-09-10</td>\n",
       "    </tr>\n",
       "  </tbody>\n",
       "</table>\n",
       "</div>"
      ],
      "text/plain": [
       "         Average Videos  Average Video Rating Average Views Average Duration  \\\n",
       "tutorial            135                  4.94        35.7 M   1 day, 7:53:08   \n",
       "hindi               108                  4.95        10.6 M         11:23:41   \n",
       "live                  1                  4.96       165.3 K          0:20:34   \n",
       "regular               1                  4.98       578.3 K          0:53:18   \n",
       "api                  12                  4.97         2.4 M          6:22:12   \n",
       "\n",
       "         Total Videos Total Views Oldest Video Publish Date  \\\n",
       "tutorial          406     107.1 M                2015-03-22   \n",
       "hindi             108      10.6 M                2018-06-13   \n",
       "live                1     165.3 K                2019-06-18   \n",
       "regular             1     578.3 K                2017-10-24   \n",
       "api                12       2.4 M                2017-11-08   \n",
       "\n",
       "         Oldest Video Uploaded Date Recent Video Publish Date  \\\n",
       "tutorial                 2015-03-22                2020-09-10   \n",
       "hindi                    2018-06-13                2019-04-05   \n",
       "live                     2019-06-18                2019-06-18   \n",
       "regular                  2017-10-24                2017-10-24   \n",
       "api                      2017-11-08                2020-09-10   \n",
       "\n",
       "         Recent Video Uploaded Date  \n",
       "tutorial                 2020-09-10  \n",
       "hindi                    2019-04-05  \n",
       "live                     2019-06-18  \n",
       "regular                  2017-10-24  \n",
       "api                      2020-09-10  "
      ]
     },
     "execution_count": 51,
     "metadata": {},
     "output_type": "execute_result"
    }
   ],
   "source": [
    "playlist_analysis = playlist_channel_analysis(playlist_dataset, tag_category, \"playlist\")\n",
    "playlist_analysis.head()"
   ]
  },
  {
   "cell_type": "code",
   "execution_count": 52,
   "metadata": {},
   "outputs": [],
   "source": [
    "# saving analysis\n",
    "filename = \"analysis/\"+ query[\"keyword\"] + \"/playlist.csv\"\n",
    "playlist_analysis.to_csv(filename)\n",
    "del playlist_analysis"
   ]
  },
  {
   "cell_type": "markdown",
   "metadata": {},
   "source": [
    "## Channel - Tags Analysis"
   ]
  },
  {
   "cell_type": "code",
   "execution_count": 8,
   "metadata": {},
   "outputs": [
    {
     "ename": "NameError",
     "evalue": "name 'combined_data' is not defined",
     "output_type": "error",
     "traceback": [
      "\u001b[1;31m---------------------------------------------------------------------------\u001b[0m",
      "\u001b[1;31mNameError\u001b[0m                                 Traceback (most recent call last)",
      "\u001b[1;32m<ipython-input-8-519559058628>\u001b[0m in \u001b[0;36m<module>\u001b[1;34m\u001b[0m\n\u001b[1;32m----> 1\u001b[1;33m channel_dataset = combined_data[['viewCount', 'averageRating',\n\u001b[0m\u001b[0;32m      2\u001b[0m        \u001b[1;34m'publishDate'\u001b[0m\u001b[1;33m,\u001b[0m \u001b[1;34m'uploadDate'\u001b[0m\u001b[1;33m,\u001b[0m \u001b[1;34m'durationSeconds'\u001b[0m\u001b[1;33m,\u001b[0m \u001b[1;34m'category'\u001b[0m\u001b[1;33m,\u001b[0m\u001b[1;33m\u001b[0m\u001b[1;33m\u001b[0m\u001b[0m\n\u001b[0;32m      3\u001b[0m        'channelName', 'channelId', 'videoId', 'videoTitle']].copy()\n\u001b[0;32m      4\u001b[0m \u001b[0mchannel_dataset\u001b[0m\u001b[1;33m.\u001b[0m\u001b[0mshape\u001b[0m\u001b[1;33m\u001b[0m\u001b[1;33m\u001b[0m\u001b[0m\n",
      "\u001b[1;31mNameError\u001b[0m: name 'combined_data' is not defined"
     ]
    }
   ],
   "source": [
    "channel_dataset = combined_data[['viewCount', 'averageRating',\n",
    "       'publishDate', 'uploadDate', 'durationSeconds', 'category',\n",
    "       'channelName', 'channelId', 'videoId', 'videoTitle']].copy()\n",
    "channel_dataset.shape"
   ]
  },
  {
   "cell_type": "code",
   "execution_count": 54,
   "metadata": {},
   "outputs": [
    {
     "data": {
      "text/html": [
       "<div>\n",
       "<style scoped>\n",
       "    .dataframe tbody tr th:only-of-type {\n",
       "        vertical-align: middle;\n",
       "    }\n",
       "\n",
       "    .dataframe tbody tr th {\n",
       "        vertical-align: top;\n",
       "    }\n",
       "\n",
       "    .dataframe thead th {\n",
       "        text-align: right;\n",
       "    }\n",
       "</style>\n",
       "<table border=\"1\" class=\"dataframe\">\n",
       "  <thead>\n",
       "    <tr style=\"text-align: right;\">\n",
       "      <th></th>\n",
       "      <th>Average Videos</th>\n",
       "      <th>Average Video Rating</th>\n",
       "      <th>Average Views</th>\n",
       "      <th>Average Duration</th>\n",
       "      <th>Total Videos</th>\n",
       "      <th>Total Views</th>\n",
       "      <th>Oldest Video Publish Date</th>\n",
       "      <th>Oldest Video Uploaded Date</th>\n",
       "      <th>Recent Video Publish Date</th>\n",
       "      <th>Recent Video Uploaded Date</th>\n",
       "    </tr>\n",
       "  </thead>\n",
       "  <tbody>\n",
       "    <tr>\n",
       "      <th>tutorial</th>\n",
       "      <td>135</td>\n",
       "      <td>4.94</td>\n",
       "      <td>35.7 M</td>\n",
       "      <td>1 day, 7:53:08</td>\n",
       "      <td>406</td>\n",
       "      <td>107.1 M</td>\n",
       "      <td>2015-03-22</td>\n",
       "      <td>2015-03-22</td>\n",
       "      <td>2020-09-10</td>\n",
       "      <td>2020-09-10</td>\n",
       "    </tr>\n",
       "    <tr>\n",
       "      <th>hindi</th>\n",
       "      <td>108</td>\n",
       "      <td>4.95</td>\n",
       "      <td>10.6 M</td>\n",
       "      <td>11:23:41</td>\n",
       "      <td>108</td>\n",
       "      <td>10.6 M</td>\n",
       "      <td>2018-06-13</td>\n",
       "      <td>2018-06-13</td>\n",
       "      <td>2019-04-05</td>\n",
       "      <td>2019-04-05</td>\n",
       "    </tr>\n",
       "    <tr>\n",
       "      <th>live</th>\n",
       "      <td>1</td>\n",
       "      <td>4.96</td>\n",
       "      <td>165.3 K</td>\n",
       "      <td>0:20:34</td>\n",
       "      <td>1</td>\n",
       "      <td>165.3 K</td>\n",
       "      <td>2019-06-18</td>\n",
       "      <td>2019-06-18</td>\n",
       "      <td>2019-06-18</td>\n",
       "      <td>2019-06-18</td>\n",
       "    </tr>\n",
       "    <tr>\n",
       "      <th>regular</th>\n",
       "      <td>1</td>\n",
       "      <td>4.98</td>\n",
       "      <td>578.3 K</td>\n",
       "      <td>0:53:18</td>\n",
       "      <td>1</td>\n",
       "      <td>578.3 K</td>\n",
       "      <td>2017-10-24</td>\n",
       "      <td>2017-10-24</td>\n",
       "      <td>2017-10-24</td>\n",
       "      <td>2017-10-24</td>\n",
       "    </tr>\n",
       "    <tr>\n",
       "      <th>api</th>\n",
       "      <td>12</td>\n",
       "      <td>4.97</td>\n",
       "      <td>2.4 M</td>\n",
       "      <td>6:22:12</td>\n",
       "      <td>12</td>\n",
       "      <td>2.4 M</td>\n",
       "      <td>2017-11-08</td>\n",
       "      <td>2017-11-08</td>\n",
       "      <td>2020-09-10</td>\n",
       "      <td>2020-09-10</td>\n",
       "    </tr>\n",
       "  </tbody>\n",
       "</table>\n",
       "</div>"
      ],
      "text/plain": [
       "         Average Videos  Average Video Rating Average Views Average Duration  \\\n",
       "tutorial            135                  4.94        35.7 M   1 day, 7:53:08   \n",
       "hindi               108                  4.95        10.6 M         11:23:41   \n",
       "live                  1                  4.96       165.3 K          0:20:34   \n",
       "regular               1                  4.98       578.3 K          0:53:18   \n",
       "api                  12                  4.97         2.4 M          6:22:12   \n",
       "\n",
       "         Total Videos Total Views Oldest Video Publish Date  \\\n",
       "tutorial          406     107.1 M                2015-03-22   \n",
       "hindi             108      10.6 M                2018-06-13   \n",
       "live                1     165.3 K                2019-06-18   \n",
       "regular             1     578.3 K                2017-10-24   \n",
       "api                12       2.4 M                2017-11-08   \n",
       "\n",
       "         Oldest Video Uploaded Date Recent Video Publish Date  \\\n",
       "tutorial                 2015-03-22                2020-09-10   \n",
       "hindi                    2018-06-13                2019-04-05   \n",
       "live                     2019-06-18                2019-06-18   \n",
       "regular                  2017-10-24                2017-10-24   \n",
       "api                      2017-11-08                2020-09-10   \n",
       "\n",
       "         Recent Video Uploaded Date  \n",
       "tutorial                 2020-09-10  \n",
       "hindi                    2019-04-05  \n",
       "live                     2019-06-18  \n",
       "regular                  2017-10-24  \n",
       "api                      2020-09-10  "
      ]
     },
     "execution_count": 54,
     "metadata": {},
     "output_type": "execute_result"
    }
   ],
   "source": [
    "channel_analysis = playlist_channel_analysis(channel_dataset, tag_category, \"channel\")\n",
    "channel_analysis.head()"
   ]
  },
  {
   "cell_type": "markdown",
   "metadata": {},
   "source": [
    "##### Not saving channel tags analysis because playlist id and channel id have same metrics so the result will also be same"
   ]
  },
  {
   "cell_type": "markdown",
   "metadata": {},
   "source": [
    "## Channels Data Analysis from Search API"
   ]
  },
  {
   "cell_type": "code",
   "execution_count": 1,
   "metadata": {},
   "outputs": [
    {
     "ename": "NameError",
     "evalue": "name 'search_data' is not defined",
     "output_type": "error",
     "traceback": [
      "\u001b[1;31m---------------------------------------------------------------------------\u001b[0m",
      "\u001b[1;31mNameError\u001b[0m                                 Traceback (most recent call last)",
      "\u001b[1;32m<ipython-input-1-055d3272c461>\u001b[0m in \u001b[0;36m<module>\u001b[1;34m\u001b[0m\n\u001b[0;32m      1\u001b[0m \u001b[1;31m## extracting the channel records\u001b[0m\u001b[1;33m\u001b[0m\u001b[1;33m\u001b[0m\u001b[1;33m\u001b[0m\u001b[0m\n\u001b[1;32m----> 2\u001b[1;33m \u001b[0mchannel_data\u001b[0m \u001b[1;33m=\u001b[0m \u001b[0msearch_data\u001b[0m\u001b[1;33m[\u001b[0m\u001b[0msearch_data\u001b[0m\u001b[1;33m[\u001b[0m\u001b[1;34m\"type\"\u001b[0m\u001b[1;33m]\u001b[0m\u001b[1;33m==\u001b[0m\u001b[1;34m\"channel\"\u001b[0m\u001b[1;33m]\u001b[0m\u001b[1;33m.\u001b[0m\u001b[0mcopy\u001b[0m\u001b[1;33m(\u001b[0m\u001b[1;33m)\u001b[0m\u001b[1;33m\u001b[0m\u001b[1;33m\u001b[0m\u001b[0m\n\u001b[0m\u001b[0;32m      3\u001b[0m \u001b[0mchannel_data\u001b[0m\u001b[1;33m.\u001b[0m\u001b[0mhead\u001b[0m\u001b[1;33m(\u001b[0m\u001b[1;33m)\u001b[0m\u001b[1;33m\u001b[0m\u001b[1;33m\u001b[0m\u001b[0m\n",
      "\u001b[1;31mNameError\u001b[0m: name 'search_data' is not defined"
     ]
    }
   ],
   "source": [
    "## extracting the channel records\n",
    "channel_data = search_data[search_data[\"type\"]==\"channel\"].copy()\n",
    "channel_data.head()"
   ]
  },
  {
   "cell_type": "markdown",
   "metadata": {},
   "source": [
    "##### Channel record matching that keyword not available in the current search. No need to run the below cells."
   ]
  },
  {
   "cell_type": "code",
   "execution_count": null,
   "metadata": {},
   "outputs": [],
   "source": [
    "# dropping empty columns\n",
    "channel_temp = 100*channel_data.isna().sum()/channel_data.shape[0]\n",
    "channel_temp = channel_temp[channel_temp==100]\n",
    "channel_data.drop(channel_temp.index,axis=1,inplace=True)\n",
    "del channel_temp"
   ]
  },
  {
   "cell_type": "code",
   "execution_count": null,
   "metadata": {},
   "outputs": [],
   "source": [
    "channel_data[\"id\"].value_counts().head()"
   ]
  },
  {
   "cell_type": "code",
   "execution_count": null,
   "metadata": {},
   "outputs": [],
   "source": [
    "# Dropping duplicate channel records\n",
    "channel_data = channel_data.drop_duplicates(\"id\")"
   ]
  },
  {
   "cell_type": "code",
   "execution_count": null,
   "metadata": {},
   "outputs": [],
   "source": [
    "channel_data[\"id\"].nunique(), channel_data.shape[0]"
   ]
  },
  {
   "cell_type": "code",
   "execution_count": null,
   "metadata": {},
   "outputs": [],
   "source": [
    "## setting channel id as index\n",
    "channel_data.set_index(\"id\",inplace=True)"
   ]
  },
  {
   "cell_type": "code",
   "execution_count": null,
   "metadata": {},
   "outputs": [],
   "source": [
    "## removing the columns as they are not providing any relevant information regarding the chaneel\n",
    "channel_data.drop([\"type\",'thumbnails->0->url', 'thumbnails->0->width',\n",
    "       'thumbnails->0->height', 'thumbnails->1->url', 'thumbnails->1->width',\n",
    "       'thumbnails->1->height', 'link'],axis=1,inplace=True)"
   ]
  },
  {
   "cell_type": "code",
   "execution_count": null,
   "metadata": {},
   "outputs": [],
   "source": [
    "channel_data.head()"
   ]
  },
  {
   "cell_type": "markdown",
   "metadata": {},
   "source": [
    "#### We can also do tag classification analyis on this, skipping as data is not enough"
   ]
  },
  {
   "cell_type": "code",
   "execution_count": null,
   "metadata": {},
   "outputs": [],
   "source": [
    "## converting subscribers to number format\n",
    "channel_data[\"subscribers\"] = channel_data[\"subscribers\"].str.replace(\"[subcrie ]+\",\"\",regex=True).fillna('0').apply(lambda x: float(x.replace(\"K\",\"\"))*1000 if \"K\" in x else (float(x.replace(\"M\",\"\"))*1000000 if \"M\" in x else x)).astype(int)"
   ]
  },
  {
   "cell_type": "code",
   "execution_count": null,
   "metadata": {},
   "outputs": [],
   "source": [
    "# function to add value labels\n",
    "def addlabels(x,y):\n",
    "    for i in range(len(x)):\n",
    "        plt.text(i,y[i]//2,str(y[i]),ha='center')"
   ]
  },
  {
   "cell_type": "code",
   "execution_count": null,
   "metadata": {},
   "outputs": [],
   "source": [
    "channel_data[\"videoCount\"] = channel_data[\"videoCount\"].str.replace(\"[, video]+\",\"\",regex=True).astype('int')"
   ]
  },
  {
   "cell_type": "code",
   "execution_count": null,
   "metadata": {},
   "outputs": [],
   "source": [
    "temp = channel_data[[\"title\",\"videoCount\"]].sort_values(\"videoCount\",ascending=False).head(5)\n",
    "plt.figure(figsize=(10,5))\n",
    "plt.bar(temp[\"title\"],temp[\"videoCount\"])\n",
    "addlabels(temp[\"title\"].to_list(),temp[\"videoCount\"].to_list())\n",
    "plt.title(\"Most viewed channels\")\n",
    "plt.show()"
   ]
  },
  {
   "cell_type": "code",
   "execution_count": null,
   "metadata": {},
   "outputs": [],
   "source": [
    "temp = channel_data[[\"title\",\"videoCount\"]].sort_values(\"videoCount\",ascending=True).head(5)\n",
    "plt.figure(figsize=(10,5))\n",
    "plt.bar(temp[\"title\"],temp[\"videoCount\"])\n",
    "addlabels(temp[\"title\"].to_list(),temp[\"videoCount\"].to_list())\n",
    "plt.title(\"Least viewed channel\")\n",
    "plt.show()"
   ]
  },
  {
   "cell_type": "code",
   "execution_count": null,
   "metadata": {},
   "outputs": [],
   "source": [
    "temp = channel_data[[\"title\",\"subscribers\"]].sort_values(\"subscribers\",ascending=False).head(5)\n",
    "plt.figure(figsize=(10,5))\n",
    "plt.bar(temp[\"title\"],temp[\"subscribers\"])\n",
    "addlabels(temp[\"title\"].to_list(),temp[\"subscribers\"].to_list())\n",
    "plt.title(\"Most subscribed channels\")\n",
    "plt.show()"
   ]
  },
  {
   "cell_type": "code",
   "execution_count": null,
   "metadata": {},
   "outputs": [],
   "source": [
    "temp = channel_data[[\"title\",\"subscribers\"]].sort_values(\"subscribers\",ascending=True).head(5)\n",
    "plt.figure(figsize=(10,5))\n",
    "plt.bar(temp[\"title\"],temp[\"subscribers\"])\n",
    "addlabels(temp[\"title\"].to_list(),temp[\"subscribers\"].to_list())\n",
    "plt.title(\"Least subscribed channel\")\n",
    "plt.xticks(rotation=45)\n",
    "plt.show()"
   ]
  },
  {
   "cell_type": "code",
   "execution_count": null,
   "metadata": {},
   "outputs": [],
   "source": [
    "del channel_data, temp"
   ]
  },
  {
   "cell_type": "markdown",
   "metadata": {},
   "source": [
    "#                                       ---------End---------"
   ]
  }
 ],
 "metadata": {
  "kernelspec": {
   "display_name": "Python 3",
   "language": "python",
   "name": "python3"
  },
  "language_info": {
   "codemirror_mode": {
    "name": "ipython",
    "version": 3
   },
   "file_extension": ".py",
   "mimetype": "text/x-python",
   "name": "python",
   "nbconvert_exporter": "python",
   "pygments_lexer": "ipython3",
   "version": "3.8.8"
  }
 },
 "nbformat": 4,
 "nbformat_minor": 4
}
